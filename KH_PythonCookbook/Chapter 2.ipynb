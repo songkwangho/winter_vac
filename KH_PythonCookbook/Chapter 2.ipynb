{
 "cells": [
  {
   "cell_type": "code",
   "execution_count": 1,
   "metadata": {},
   "outputs": [
    {
     "name": "stdout",
     "output_type": "stream",
     "text": [
      "['asdf', 'fjdk', 'afed', 'fjek', 'asdf', 'foo']\n"
     ]
    }
   ],
   "source": [
    "import re\n",
    "line='asdf fjdk; afed, fjek,asdf,       foo'\n",
    "print(re.split(r'[;,\\s]\\s*',line))"
   ]
  },
  {
   "cell_type": "code",
   "execution_count": 2,
   "metadata": {},
   "outputs": [
    {
     "name": "stdout",
     "output_type": "stream",
     "text": [
      "['asdf', ' ', 'fjdk', ';', 'afed', ',', 'fjek', ',', 'asdf', ',', 'foo']\n"
     ]
    }
   ],
   "source": [
    "fields=re.split(r'(;|,|\\s)\\s*',line)\n",
    "print(fields)"
   ]
  },
  {
   "cell_type": "code",
   "execution_count": 4,
   "metadata": {},
   "outputs": [
    {
     "name": "stdout",
     "output_type": "stream",
     "text": [
      "['asdf', 'fjdk', 'afed', 'fjek', 'asdf', 'foo']\n",
      "[' ', ';', ',', ',', ',', ' ']\n"
     ]
    }
   ],
   "source": [
    "values=fields[::2]\n",
    "delimiters=fields[1::2]+[' ']\n",
    "print(values)\n",
    "print(delimiters)"
   ]
  },
  {
   "cell_type": "code",
   "execution_count": 5,
   "metadata": {},
   "outputs": [
    {
     "name": "stdout",
     "output_type": "stream",
     "text": [
      "asdf fjdk;afed,fjek,asdf,foo \n"
     ]
    }
   ],
   "source": [
    "print(''.join(v+d for v,d in zip(values,delimiters)))"
   ]
  },
  {
   "cell_type": "code",
   "execution_count": 6,
   "metadata": {},
   "outputs": [
    {
     "data": {
      "text/plain": [
       "['asdf', 'fjdk', 'afed', 'fjek', 'asdf', 'foo']"
      ]
     },
     "execution_count": 6,
     "metadata": {},
     "output_type": "execute_result"
    }
   ],
   "source": [
    "re.split(r'(?:;|,|\\s)\\s*',line)"
   ]
  },
  {
   "cell_type": "code",
   "execution_count": 7,
   "metadata": {},
   "outputs": [
    {
     "name": "stdout",
     "output_type": "stream",
     "text": [
      "True\n",
      "False\n",
      "True\n"
     ]
    }
   ],
   "source": [
    "filename='spam.txt'\n",
    "print(filename.endswith('.txt'))\n",
    "print(filename.startswith('file:'))\n",
    "url='http://www.python.org'\n",
    "print(url.startswith('http:'))"
   ]
  },
  {
   "cell_type": "code",
   "execution_count": 11,
   "metadata": {},
   "outputs": [
    {
     "name": "stdout",
     "output_type": "stream",
     "text": [
      "['.ipynb_checkpoints', 'Chaper1.ipynb', 'Chapter 2.ipynb', 'somefile.txt']\n",
      "['Chaper1.ipynb', 'Chapter 2.ipynb']\n",
      "False\n"
     ]
    }
   ],
   "source": [
    "import os\n",
    "filenames=os.listdir('.')\n",
    "print(filenames)\n",
    "print([name for name in filenames if name.endswith(('.ipynb','.c'))])\n",
    "print(any(name.endswith('.py') for name in filenames))"
   ]
  },
  {
   "cell_type": "code",
   "execution_count": 12,
   "metadata": {},
   "outputs": [],
   "source": [
    "from urllib.request import urlopen\n",
    "def read_data(name):\n",
    "    if name.startswith(('http:','https:','ftp:')):\n",
    "        return urlopen(name).read()\n",
    "    else:\n",
    "        with open(name) as f:\n",
    "            return f.read()"
   ]
  },
  {
   "cell_type": "code",
   "execution_count": 14,
   "metadata": {},
   "outputs": [
    {
     "data": {
      "text/plain": [
       "True"
      ]
     },
     "execution_count": 14,
     "metadata": {},
     "output_type": "execute_result"
    }
   ],
   "source": [
    "choices=['http:','https:']\n",
    "url='http://www.python.org'\n",
    "url.startswith(tuple(choices))"
   ]
  },
  {
   "cell_type": "code",
   "execution_count": 17,
   "metadata": {},
   "outputs": [
    {
     "name": "stdout",
     "output_type": "stream",
     "text": [
      "True\n",
      "True\n",
      "True\n",
      "['Dat1.csv', 'Dat2.csv']\n"
     ]
    }
   ],
   "source": [
    "from fnmatch import fnmatch, fnmatchcase\n",
    "print(fnmatch('foo.txt','*.txt'))\n",
    "print(fnmatch('foo.txt','?oo.txt'))\n",
    "print(fnmatch('Dat45.csv','Dat[0-9]*'))\n",
    "names=['Dat1.csv','Dat2.csv','config.ini','foo.py']\n",
    "print([name for name in names if fnmatch(name,'Dat[0-9]*')])"
   ]
  },
  {
   "cell_type": "code",
   "execution_count": 18,
   "metadata": {},
   "outputs": [
    {
     "name": "stdout",
     "output_type": "stream",
     "text": [
      "['5412 N CLARK ST', '1060 W ADDISON ST']\n"
     ]
    }
   ],
   "source": [
    "addresses=['5412 N CLARK ST','1060 W ADDISON ST','1039 W GRANVILLE AVE']\n",
    "print([addr for addr in addresses if fnmatchcase(addr,'* ST')])"
   ]
  },
  {
   "cell_type": "code",
   "execution_count": 19,
   "metadata": {},
   "outputs": [
    {
     "name": "stdout",
     "output_type": "stream",
     "text": [
      "yes\n",
      "no\n"
     ]
    }
   ],
   "source": [
    "import re \n",
    "texts=['11/27/2017','Nob 27, 2012']\n",
    "ptn=re.compile(r'\\d+/\\d+/\\d+')\n",
    "for text in texts:\n",
    "    if ptn.match(text):\n",
    "        print('yes')\n",
    "    else:\n",
    "        print('no')"
   ]
  },
  {
   "cell_type": "code",
   "execution_count": 20,
   "metadata": {},
   "outputs": [
    {
     "data": {
      "text/plain": [
       "['11/27/2017', '3/13/2013']"
      ]
     },
     "execution_count": 20,
     "metadata": {},
     "output_type": "execute_result"
    }
   ],
   "source": [
    "text='Today is 11/27/2017. PyCon starts 3/13/2013.'\n",
    "ptn.findall(text)"
   ]
  },
  {
   "cell_type": "code",
   "execution_count": 32,
   "metadata": {},
   "outputs": [
    {
     "name": "stdout",
     "output_type": "stream",
     "text": [
      "11/27/2017\n",
      "('11', '27', '2017')\n",
      "11 11\n",
      "27 27\n",
      "2017 2017\n",
      "[('11', '27', '2017'), ('3', '13', '2013')]\n",
      "2017--11--27\n",
      "2013--3--13\n"
     ]
    }
   ],
   "source": [
    "datepat=re.compile(r'(\\d+)/(\\d+)/(\\d+)')\n",
    "m=datepat.match(texts[0])\n",
    "print(m.group(0))\n",
    "print(m.groups())\n",
    "for i,d in enumerate(m.groups()):\n",
    "    print(m.group(i+1),d)\n",
    "month,dat,year=m.groups()\n",
    "datelist=datepat.findall(text)\n",
    "print(datelist)\n",
    "for month,dat,year in datelist:\n",
    "    print('{}--{}--{}'.format(year,month,dat))"
   ]
  },
  {
   "cell_type": "code",
   "execution_count": 33,
   "metadata": {},
   "outputs": [
    {
     "name": "stdout",
     "output_type": "stream",
     "text": [
      "('11', '27', '2017')\n",
      "('3', '13', '2013')\n"
     ]
    }
   ],
   "source": [
    "for m in datepat.finditer(text):\n",
    "    print(m.groups())"
   ]
  },
  {
   "cell_type": "code",
   "execution_count": 36,
   "metadata": {},
   "outputs": [
    {
     "name": "stdout",
     "output_type": "stream",
     "text": [
      "Today is 2017-11-27. PyCon starts 2013-3-13.\n",
      "Today is 2017-11-27. PyCon starts 2013-3-13.\n"
     ]
    }
   ],
   "source": [
    "print(re.sub(datepat,r'\\3-\\1-\\2',text))\n",
    "print(datepat.sub(r'\\3-\\1-\\2',text))"
   ]
  },
  {
   "cell_type": "code",
   "execution_count": 37,
   "metadata": {},
   "outputs": [
    {
     "data": {
      "text/plain": [
       "'Today is 27 Nov 2017. PyCon starts 13 Mar 2013.'"
      ]
     },
     "execution_count": 37,
     "metadata": {},
     "output_type": "execute_result"
    }
   ],
   "source": [
    "from calendar import month_abbr\n",
    "def change_date(m):\n",
    "    mon_name=month_abbr[int(m.group(1))]\n",
    "    return '{} {} {}'.format(m.group(2),mon_name,m.group(3))\n",
    "datepat.sub(change_date,text)"
   ]
  },
  {
   "cell_type": "code",
   "execution_count": 38,
   "metadata": {},
   "outputs": [
    {
     "name": "stdout",
     "output_type": "stream",
     "text": [
      "Today is 27 Nov 2017. PyCon starts 13 Mar 2013. 2\n"
     ]
    }
   ],
   "source": [
    "newtext,n=datepat.subn(change_date,text)\n",
    "print(newtext,n)"
   ]
  },
  {
   "cell_type": "code",
   "execution_count": 41,
   "metadata": {},
   "outputs": [
    {
     "name": "stdout",
     "output_type": "stream",
     "text": [
      "['PYTHON', 'python', 'Python']\n",
      "UPPER snake, lower snake, Mixed snake\n"
     ]
    }
   ],
   "source": [
    "ntext='UPPER PYTHON, lower python, Mixed Python'\n",
    "print(re.findall('python',ntext, flags=re.IGNORECASE))\n",
    "print(re.sub('python','snake',ntext,flags=re.IGNORECASE))"
   ]
  },
  {
   "cell_type": "code",
   "execution_count": 42,
   "metadata": {},
   "outputs": [
    {
     "data": {
      "text/plain": [
       "'UPPER SNAKE, lower snake, Mixed Snake'"
      ]
     },
     "execution_count": 42,
     "metadata": {},
     "output_type": "execute_result"
    }
   ],
   "source": [
    "def matchcase(word):\n",
    "    def replace(m):\n",
    "        text=m.group()\n",
    "        if text.isupper():\n",
    "            return word.upper()\n",
    "        elif text.islower():\n",
    "            return word.lower()\n",
    "        elif text[0].isupper():\n",
    "            return word.capitalize()\n",
    "        else:\n",
    "            return word\n",
    "    return replace\n",
    "re.sub('python',matchcase('snake'),ntext,flags=re.IGNORECASE)"
   ]
  },
  {
   "cell_type": "code",
   "execution_count": 43,
   "metadata": {},
   "outputs": [
    {
     "data": {
      "text/plain": [
       "['No.\" Phone says \"yes.']"
      ]
     },
     "execution_count": 43,
     "metadata": {},
     "output_type": "execute_result"
    }
   ],
   "source": [
    "str_pat=re.compile(r'\\\"(.*)\\\"')\n",
    "text1='Computer says \"No.\" Phone says \"yes.\"'\n",
    "str_pat.findall(text1)"
   ]
  },
  {
   "cell_type": "code",
   "execution_count": 44,
   "metadata": {},
   "outputs": [
    {
     "data": {
      "text/plain": [
       "['No.', 'yes.']"
      ]
     },
     "execution_count": 44,
     "metadata": {},
     "output_type": "execute_result"
    }
   ],
   "source": [
    "str_pat_nongreedy=re.compile(r'\\\"(.*?)\\\"')\n",
    "text1='Computer says \"No.\" Phone says \"yes.\"'\n",
    "str_pat_nongreedy.findall(text1)"
   ]
  },
  {
   "cell_type": "code",
   "execution_count": 46,
   "metadata": {},
   "outputs": [
    {
     "name": "stdout",
     "output_type": "stream",
     "text": [
      "Spicy Jalapeño Spicy Jalapeño\n",
      "False\n",
      "14 15\n"
     ]
    }
   ],
   "source": [
    "s1='Spicy Jalape\\u00f1o'\n",
    "s2='Spicy Jalapen\\u0303o'\n",
    "print(s1,s2)\n",
    "print(s1==s2)\n",
    "print(len(s1),len(s2))"
   ]
  },
  {
   "cell_type": "code",
   "execution_count": 49,
   "metadata": {},
   "outputs": [
    {
     "name": "stdout",
     "output_type": "stream",
     "text": [
      "Spicy Jalapeño Spicy Jalapeño\n",
      "True\n",
      "14 14\n",
      "'Spicy Jalape\\xf1o'\n",
      "True\n",
      "'Spicy Jalapen\\u0303o'\n"
     ]
    }
   ],
   "source": [
    "import unicodedata\n",
    "t1=unicodedata.normalize('NFC',s1)\n",
    "t2=unicodedata.normalize('NFC',s2)\n",
    "print(t1,t2)\n",
    "print(t1==t2)\n",
    "print(len(t1),len(t2))\n",
    "print(ascii(t1))\n",
    "t3=unicodedata.normalize('NFD',s1)\n",
    "t4=unicodedata.normalize('NFD',s2)\n",
    "print(t3==t4)\n",
    "print(ascii(t3))"
   ]
  },
  {
   "cell_type": "code",
   "execution_count": 52,
   "metadata": {},
   "outputs": [
    {
     "name": "stdout",
     "output_type": "stream",
     "text": [
      "Spicy Jalapeño Spicy Jalapeño\n",
      "False\n",
      "15 14\n"
     ]
    },
    {
     "data": {
      "text/plain": [
       "'fi'"
      ]
     },
     "execution_count": 52,
     "metadata": {},
     "output_type": "execute_result"
    }
   ],
   "source": [
    "s5=unicodedata.normalize('NFKD',t1)\n",
    "s6=unicodedata.normalize('NFKC',t1)\n",
    "print(s5,s6)\n",
    "print(s5==s6)\n",
    "print(len(s5),len(s6))\n",
    "s='\\ufb01'\n",
    "unicodedata.normalize('NFKD',s)\n",
    "unicodedata.normalize('NFKC',s)"
   ]
  },
  {
   "cell_type": "code",
   "execution_count": 54,
   "metadata": {},
   "outputs": [
    {
     "name": "stdout",
     "output_type": "stream",
     "text": [
      "hello world\n"
     ]
    }
   ],
   "source": [
    "s='   hello world \\n'\n",
    "s=s.strip()\n",
    "print(s)"
   ]
  },
  {
   "cell_type": "code",
   "execution_count": 2,
   "metadata": {},
   "outputs": [
    {
     "name": "stdout",
     "output_type": "stream",
     "text": [
      "python\f",
      "is\tawesome\r\n",
      "\n",
      "python is awesome\n",
      "\n"
     ]
    }
   ],
   "source": [
    "s='python\\fis\\tawesome\\r\\n'\n",
    "print(s)\n",
    "remap={ord('\\t'):' ',ord('\\f'):' ',ord('\\r'):None}\n",
    "a=s.translate(remap)\n",
    "print(a)"
   ]
  },
  {
   "cell_type": "code",
   "execution_count": 5,
   "metadata": {},
   "outputs": [
    {
     "name": "stdout",
     "output_type": "stream",
     "text": [
      "python is awesome\n",
      "\n"
     ]
    }
   ],
   "source": [
    "import unicodedata\n",
    "import sys\n",
    "cmb_chrs=dict.fromkeys(c for c in range(sys.maxunicode) if unicodedata.combining(chr(c)))\n",
    "#print(cmb_chrs)\n",
    "b=unicodedata.normalize('NFD',a)\n",
    "b.translate(cmb_chrs)\n",
    "print(b)"
   ]
  },
  {
   "cell_type": "code",
   "execution_count": 7,
   "metadata": {},
   "outputs": [
    {
     "data": {
      "text/plain": [
       "580"
      ]
     },
     "execution_count": 7,
     "metadata": {},
     "output_type": "execute_result"
    }
   ],
   "source": [
    "digitmap={c:ord('0')+unicodedata.digit(chr(c)) for c in range(sys.maxunicode) if unicodedata.category(chr(c))=='Nd'}\n",
    "len(digitmap)"
   ]
  },
  {
   "cell_type": "code",
   "execution_count": 8,
   "metadata": {},
   "outputs": [
    {
     "data": {
      "text/plain": [
       "'123'"
      ]
     },
     "execution_count": 8,
     "metadata": {},
     "output_type": "execute_result"
    }
   ],
   "source": [
    "x='\\u0661\\u0662\\u0663'\n",
    "x.translate(digitmap)"
   ]
  },
  {
   "cell_type": "code",
   "execution_count": 9,
   "metadata": {},
   "outputs": [
    {
     "name": "stdout",
     "output_type": "stream",
     "text": [
      "Hello World         \n",
      "         Hello World\n",
      "    Hello World     \n"
     ]
    }
   ],
   "source": [
    "text='Hello World'\n",
    "print(text.ljust(20))\n",
    "print(text.rjust(20))\n",
    "print(text.center(20))"
   ]
  },
  {
   "cell_type": "code",
   "execution_count": 10,
   "metadata": {},
   "outputs": [
    {
     "name": "stdout",
     "output_type": "stream",
     "text": [
      "Hello World=========\n",
      ">>>>>>>>>Hello World\n",
      "****Hello World*****\n"
     ]
    }
   ],
   "source": [
    "print(text.ljust(20,'='))\n",
    "print(text.rjust(20,'>'))\n",
    "print(text.center(20,'*'))"
   ]
  },
  {
   "cell_type": "code",
   "execution_count": 12,
   "metadata": {},
   "outputs": [
    {
     "name": "stdout",
     "output_type": "stream",
     "text": [
      "         Hello World\n",
      "Hello World         \n",
      "    Hello World     \n"
     ]
    }
   ],
   "source": [
    "print(format(text,'>20'))\n",
    "print(format(text,'<20'))\n",
    "print(format(text,'^20'))"
   ]
  },
  {
   "cell_type": "code",
   "execution_count": 14,
   "metadata": {},
   "outputs": [
    {
     "name": "stdout",
     "output_type": "stream",
     "text": [
      "=========Hello World\n",
      "Hello World<<<<<<<<<\n",
      "****Hello World*****\n"
     ]
    }
   ],
   "source": [
    "print(format(text,'=>20'))\n",
    "print(format(text,'<<20'))\n",
    "print(format(text,'*^20'))"
   ]
  },
  {
   "cell_type": "code",
   "execution_count": 17,
   "metadata": {},
   "outputs": [
    {
     "name": "stdout",
     "output_type": "stream",
     "text": [
      "hello===============***************world\n"
     ]
    }
   ],
   "source": [
    "print('{:=<20}{:*>20}'.format('hello','world'))"
   ]
  },
  {
   "cell_type": "code",
   "execution_count": 18,
   "metadata": {},
   "outputs": [
    {
     "name": "stdout",
     "output_type": "stream",
     "text": [
      "    1.2345\n",
      "   1.23   \n"
     ]
    }
   ],
   "source": [
    "x=1.2345\n",
    "print(format(x,'>10'))\n",
    "print(format(x,'^10.2f'))"
   ]
  },
  {
   "cell_type": "code",
   "execution_count": 19,
   "metadata": {},
   "outputs": [
    {
     "name": "stdout",
     "output_type": "stream",
     "text": [
      "Is Chicago Not Chicago?\n",
      "Is.Chicago.Not.Chicago?\n",
      "IsChicagoNotChicago?\n"
     ]
    }
   ],
   "source": [
    "parts=['Is','Chicago','Not','Chicago?']\n",
    "print(' '.join(parts))\n",
    "print('.'.join(parts))\n",
    "print(''.join(parts))\n"
   ]
  },
  {
   "cell_type": "code",
   "execution_count": 20,
   "metadata": {},
   "outputs": [
    {
     "name": "stdout",
     "output_type": "stream",
     "text": [
      "Is Chicago Not Chicago?\n"
     ]
    }
   ],
   "source": [
    "a = 'Is Chicago'\n",
    "b= 'Not Chicago?'\n",
    "print(a+' '+b)"
   ]
  },
  {
   "cell_type": "code",
   "execution_count": 21,
   "metadata": {},
   "outputs": [
    {
     "name": "stdout",
     "output_type": "stream",
     "text": [
      "Is Chicago Not Chicago?\n"
     ]
    }
   ],
   "source": [
    "print('{} {}'.format(a,b))"
   ]
  },
  {
   "cell_type": "code",
   "execution_count": 22,
   "metadata": {},
   "outputs": [
    {
     "name": "stdout",
     "output_type": "stream",
     "text": [
      "ACME,50,91.1\n"
     ]
    }
   ],
   "source": [
    "data=['ACME',50,91.1]\n",
    "print(','.join(str(c) for c in data))"
   ]
  },
  {
   "cell_type": "code",
   "execution_count": 23,
   "metadata": {},
   "outputs": [
    {
     "name": "stdout",
     "output_type": "stream",
     "text": [
      "Guido has 37 messages.\n"
     ]
    }
   ],
   "source": [
    "s='{name} has {n} messages.'\n",
    "print(s.format(name='Guido',n=37))"
   ]
  },
  {
   "cell_type": "code",
   "execution_count": 24,
   "metadata": {},
   "outputs": [
    {
     "name": "stdout",
     "output_type": "stream",
     "text": [
      "Guido has 37 messages.\n"
     ]
    }
   ],
   "source": [
    "name='Guido'\n",
    "n=37\n",
    "print(s.format_map(vars()))"
   ]
  },
  {
   "cell_type": "code",
   "execution_count": 27,
   "metadata": {},
   "outputs": [
    {
     "name": "stdout",
     "output_type": "stream",
     "text": [
      "{'name': 'Guido', 'n': 37}\n",
      "Guido has 37 messages.\n"
     ]
    }
   ],
   "source": [
    "class Info:\n",
    "    def __init__(self,name,n):\n",
    "        self.name=name\n",
    "        self.n=n\n",
    "a=Info('Guido',37)\n",
    "print(vars(a))\n",
    "print(s.format_map(vars(a)))"
   ]
  },
  {
   "cell_type": "code",
   "execution_count": 3,
   "metadata": {},
   "outputs": [
    {
     "data": {
      "text/plain": [
       "'Guido has {n} messages.'"
      ]
     },
     "execution_count": 3,
     "metadata": {},
     "output_type": "execute_result"
    }
   ],
   "source": [
    "s='{name} has {n} messages.'\n",
    "name='Guido'\n",
    "class safesub(dict):\n",
    "    def __missing__(self,key):\n",
    "        return '{'+key+'}'\n",
    "s.format_map(safesub(vars()))"
   ]
  },
  {
   "cell_type": "code",
   "execution_count": 6,
   "metadata": {},
   "outputs": [
    {
     "name": "stdout",
     "output_type": "stream",
     "text": [
      "계절이 지나가는 하늘에는 가을로 가득 차있습니다。나는 아무 걱정도 없이 가을속의 별들을 다 헤일듯합니다。가슴속에 하나 둘\n",
      "새겨지는 별을 이제 다 못헤는것은 쉬이 아침이 오는 까닭이오、내일밤이 남은 까닭이오、아직 나의 청춘이 다하지 않은 까닭입니다。\n",
      "계절이 지나가는 하늘에는 가을로 가득 차있습니다。나는 아무 걱정도 없이\n",
      "가을속의 별들을 다 헤일듯합니다。가슴속에 하나 둘 새겨지는 별을 이제 다\n",
      "못헤는것은 쉬이 아침이 오는 까닭이오、내일밤이 남은 까닭이오、아직 나의\n",
      "청춘이 다하지 않은 까닭입니다。\n",
      "     계절이 지나가는 하늘에는 가을로 가득 차있습니다。나는 아무\n",
      "걱정도 없이 가을속의 별들을 다 헤일듯합니다。가슴속에 하나 둘 새겨지는\n",
      "별을 이제 다 못헤는것은 쉬이 아침이 오는 까닭이오、내일밤이 남은\n",
      "까닭이오、아직 나의 청춘이 다하지 않은 까닭입니다。\n",
      "계절이 지나가는 하늘에는 가을로 가득 차있습니다。나는 아무 걱정도 없이\n",
      "     가을속의 별들을 다 헤일듯합니다。가슴속에 하나 둘 새겨지는 별을\n",
      "     이제 다 못헤는것은 쉬이 아침이 오는 까닭이오、내일밤이 남은\n",
      "     까닭이오、아직 나의 청춘이 다하지 않은 까닭입니다。\n"
     ]
    }
   ],
   "source": [
    "s='계절이 지나가는 하늘에는 가을로 가득 차있습니다。나는 아무 걱정도 없이 가을속의 별들을 다 헤일듯합니다。가슴속에 하나 둘 새겨지는 별을 이제 다 못헤는것은 쉬이 아침이 오는 까닭이오、내일밤이 남은 까닭이오、아직 나의 청춘이 다하지 않은 까닭입니다。'\n",
    "#print(s)\n",
    "import textwrap\n",
    "print(textwrap.fill(s,70))\n",
    "print(textwrap.fill(s,40))\n",
    "print(textwrap.fill(s,40,initial_indent='     '))\n",
    "print(textwrap.fill(s,40,subsequent_indent='     '))"
   ]
  },
  {
   "cell_type": "code",
   "execution_count": 30,
   "metadata": {
    "scrolled": true
   },
   "outputs": [
    {
     "name": "stdout",
     "output_type": "stream",
     "text": [
      "re.compile('(?P<NAME>[a-zA-Z_][a-zA-Z_0-9]*)|(?P<NUM>\\\\d+)|(?P<PLUS>\\\\+)|(?P<MINUS>\\\\-)|(?P<TIMES>\\\\*)|(?P<DIVIDE>\\\\/)|(?P<EQ>=)|(?P<LPAREN>\\\\()|(?P<RPAREN>\\\\))|(?P<WS>\\\\s+)')\n"
     ]
    }
   ],
   "source": [
    "import re\n",
    "NAME=r'(?P<NAME>[a-zA-Z_][a-zA-Z_0-9]*)'\n",
    "NUM=r'(?P<NUM>\\d+)'\n",
    "PLUS=r'(?P<PLUS>\\+)'\n",
    "MINUS=r'(?P<MINUS>\\-)'\n",
    "TIMES=r'(?P<TIMES>\\*)'\n",
    "DIVIDE=r'(?P<DIVIDE>\\/)'\n",
    "EQ=r'(?P<EQ>=)'\n",
    "LPAREN=r'(?P<LPAREN>\\()'\n",
    "RPAREN=r'(?P<RPAREN>\\))'\n",
    "WS=r'(?P<WS>\\s+)'\n",
    "master_pat=re.compile('|'.join([NAME,NUM,PLUS,MINUS,TIMES,DIVIDE,EQ,LPAREN,RPAREN,WS]))\n",
    "print(master_pat)"
   ]
  },
  {
   "cell_type": "code",
   "execution_count": 31,
   "metadata": {},
   "outputs": [
    {
     "name": "stdout",
     "output_type": "stream",
     "text": [
      "NAME foo\n",
      "WS  \n",
      "EQ =\n",
      "WS  \n",
      "NUM 42\n"
     ]
    }
   ],
   "source": [
    "scanner=master_pat.scanner('foo = 42')\n",
    "t=scanner.match()\n",
    "while t is not None:\n",
    "    print(t.lastgroup,t.group())\n",
    "    t=scanner.match()"
   ]
  },
  {
   "cell_type": "code",
   "execution_count": 32,
   "metadata": {},
   "outputs": [
    {
     "name": "stdout",
     "output_type": "stream",
     "text": [
      "Token(type='NAME', value='foo')\n",
      "Token(type='EQ', value='=')\n",
      "Token(type='NUM', value='42')\n"
     ]
    }
   ],
   "source": [
    "from collections import namedtuple\n",
    "\n",
    "Token=namedtuple('Token',['type','value'])\n",
    "def generate_tokens(pat,text):\n",
    "    scanner=pat.scanner(text)\n",
    "    for m in iter(scanner.match,None):\n",
    "        tok = Token(m.lastgroup,m.group())\n",
    "        if tok.type != 'WS':\n",
    "            yield tok \n",
    "        \n",
    "for tok in generate_tokens(master_pat,'foo = 42'):\n",
    "    print(tok)"
   ]
  },
  {
   "cell_type": "code",
   "execution_count": 33,
   "metadata": {},
   "outputs": [],
   "source": [
    "class ExpressionEvaluator:\n",
    "    def parse(self,text):\n",
    "        self.tokens=generate_tokens(master_pat,text)\n",
    "        self.tok=None\n",
    "        self.nexttok=None\n",
    "        self._advance()\n",
    "        return self.expr()\n",
    "    def _advance(self):\n",
    "        '''Advance one token ahead'''\n",
    "        self.tok, self.nexttok=self.nexttok,next(self.tokens,None)\n",
    "    def _accept(self,toktype):\n",
    "        'Test and consume the next token if it matches toktype'\n",
    "        if self.nexttok and self.nexttok.type==toktype:\n",
    "            self._advance()\n",
    "            return True\n",
    "        else:\n",
    "            return False\n",
    "    def _expect(self,toktype):\n",
    "        'Consume next token if it matches toktype or raise SyntaxError'\n",
    "        if not self._accept(toktype):\n",
    "            raise SyntaxError('Expected '+toktype)\n",
    "    def expr(self):\n",
    "        \"expression ::= term {('+'|'-') term}*\"\n",
    "        \n",
    "        exprval=self.term()\n",
    "        while self._accept('PLUS') or self._accept('MINUS'):\n",
    "            op=self.tok.type\n",
    "            right = self.term()\n",
    "            if op == 'PLUS':\n",
    "                exprval+=right\n",
    "            elif op == 'MINUS':\n",
    "                exprval-=right\n",
    "        return exprval\n",
    "    def term(self):\n",
    "        \"term ::= factor {('*'|'/') factor}*\"\n",
    "        termval=self.factor()\n",
    "        while self._accept('TIMES') or self._accept('DIVIDE'):\n",
    "            op=self.tok.type\n",
    "            right = self.term()\n",
    "            if op == 'TIMES':\n",
    "                termval*=right\n",
    "            elif op == 'DIVIDE':\n",
    "                termval/=right\n",
    "        return termval\n",
    "    def factor(self):\n",
    "        \"factor ::= NUM |( expr )\"\n",
    "        \n",
    "        if self._accept('NUM'):\n",
    "            return int(self.tok.value)\n",
    "        elif self._accept('LPAREN'):\n",
    "            exprval=self.expr()\n",
    "            self._expect('RPAREN')\n",
    "            return exprval\n",
    "        else:\n",
    "            raise SyntaxError('Expected NUMBER or LPAREN')"
   ]
  },
  {
   "cell_type": "code",
   "execution_count": 34,
   "metadata": {},
   "outputs": [
    {
     "name": "stdout",
     "output_type": "stream",
     "text": [
      "2\n",
      "5\n",
      "37\n"
     ]
    }
   ],
   "source": [
    "e=ExpressionEvaluator()\n",
    "print(e.parse('2'))\n",
    "print(e.parse('2 + 3'))\n",
    "print(e.parse('2 + (3 + 4) * 5'))"
   ]
  },
  {
   "cell_type": "code",
   "execution_count": 40,
   "metadata": {},
   "outputs": [],
   "source": [
    "class ExpressionTreeBuilder(ExpressionEvaluator):\n",
    "    def expr(self):\n",
    "        \"expression ::= term {('+'|'-') term}*\"\n",
    "        \n",
    "        exprval=self.term()\n",
    "        while self._accept('PLUS') or self._accept('MINUS'):\n",
    "            op=self.tok.type\n",
    "            right = self.term()\n",
    "            if op == 'PLUS':\n",
    "                exprval=('+',exprval,right)\n",
    "            elif op == 'MINUS':\n",
    "                exprval=('-',exprval,right)\n",
    "        return exprval\n",
    "    def term(self):\n",
    "        \"term ::= factor {('*'|'/') factor}*\"\n",
    "        termval=self.factor()\n",
    "        while self._accept('TIMES') or self._accept('DIVIDE'):\n",
    "            op=self.tok.type\n",
    "            right = self.term()\n",
    "            if op == 'TIMES':\n",
    "                termval=('*',termval,right)\n",
    "            elif op == 'DIVIDE':\n",
    "                termval=('/',termval,right)\n",
    "        return termval\n",
    "    def factor(self):\n",
    "        \"factor ::= NUM |( expr )\"\n",
    "        \n",
    "        if self._accept('NUM'):\n",
    "            return int(self.tok.value)\n",
    "        elif self._accept('LPAREN'):\n",
    "            exprval=self.expr()\n",
    "            self._expect('RPAREN')\n",
    "            return exprval\n",
    "        else:\n",
    "            raise SyntaxError('Expected NUMBER or LPAREN')"
   ]
  },
  {
   "cell_type": "code",
   "execution_count": 41,
   "metadata": {},
   "outputs": [
    {
     "name": "stdout",
     "output_type": "stream",
     "text": [
      "('+', 2, 3)\n",
      "('+', 2, ('*', ('+', 3, 4), 5))\n"
     ]
    }
   ],
   "source": [
    "e=ExpressionTreeBuilder()\n",
    "print(e.parse('2 + 3'))\n",
    "print(e.parse('2 + (3 + 4) * 5'))"
   ]
  },
  {
   "cell_type": "code",
   "execution_count": 42,
   "metadata": {},
   "outputs": [
    {
     "ename": "SyntaxError",
     "evalue": "Expected NUMBER or LPAREN (<string>)",
     "output_type": "error",
     "traceback": [
      "Traceback \u001b[1;36m(most recent call last)\u001b[0m:\n",
      "  File \u001b[0;32m\"C:\\Users\\admin\\Anaconda3\\lib\\site-packages\\IPython\\core\\interactiveshell.py\"\u001b[0m, line \u001b[0;32m3267\u001b[0m, in \u001b[0;35mrun_code\u001b[0m\n    exec(code_obj, self.user_global_ns, self.user_ns)\n",
      "  File \u001b[0;32m\"<ipython-input-42-81b3495eda27>\"\u001b[0m, line \u001b[0;32m1\u001b[0m, in \u001b[0;35m<module>\u001b[0m\n    print(e.parse('2 +* 3'))\n",
      "  File \u001b[0;32m\"<ipython-input-33-35dd6709b230>\"\u001b[0m, line \u001b[0;32m7\u001b[0m, in \u001b[0;35mparse\u001b[0m\n    return self.expr()\n",
      "  File \u001b[0;32m\"<ipython-input-40-fce8b115274f>\"\u001b[0m, line \u001b[0;32m8\u001b[0m, in \u001b[0;35mexpr\u001b[0m\n    right = self.term()\n",
      "  File \u001b[0;32m\"<ipython-input-40-fce8b115274f>\"\u001b[0m, line \u001b[0;32m16\u001b[0m, in \u001b[0;35mterm\u001b[0m\n    termval=self.factor()\n",
      "\u001b[1;36m  File \u001b[1;32m\"<ipython-input-40-fce8b115274f>\"\u001b[1;36m, line \u001b[1;32m35\u001b[1;36m, in \u001b[1;35mfactor\u001b[1;36m\u001b[0m\n\u001b[1;33m    raise SyntaxError('Expected NUMBER or LPAREN')\u001b[0m\n",
      "\u001b[1;36m  File \u001b[1;32m\"<string>\"\u001b[1;36m, line \u001b[1;32munknown\u001b[0m\n\u001b[1;31mSyntaxError\u001b[0m\u001b[1;31m:\u001b[0m Expected NUMBER or LPAREN\n"
     ]
    }
   ],
   "source": [
    "print(e.parse('2 +* 3'))"
   ]
  },
  {
   "cell_type": "code",
   "execution_count": null,
   "metadata": {},
   "outputs": [],
   "source": []
  }
 ],
 "metadata": {
  "kernelspec": {
   "display_name": "Python 3",
   "language": "python",
   "name": "python3"
  },
  "language_info": {
   "codemirror_mode": {
    "name": "ipython",
    "version": 3
   },
   "file_extension": ".py",
   "mimetype": "text/x-python",
   "name": "python",
   "nbconvert_exporter": "python",
   "pygments_lexer": "ipython3",
   "version": "3.6.7"
  }
 },
 "nbformat": 4,
 "nbformat_minor": 2
}
