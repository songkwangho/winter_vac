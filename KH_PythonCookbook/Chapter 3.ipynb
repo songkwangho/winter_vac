{
 "cells": [
  {
   "cell_type": "code",
   "execution_count": 5,
   "metadata": {},
   "outputs": [
    {
     "name": "stdout",
     "output_type": "stream",
     "text": [
      "1.2\n",
      "1.3\n",
      "1.23\n",
      "1.5\n",
      "2.5\n",
      "-1.2313\n"
     ]
    }
   ],
   "source": [
    "print(round(1.23,1))\n",
    "print(round(1.27,1))\n",
    "print(round(1.23452,2))\n",
    "print(round(1.5,1))\n",
    "print(round(2.5,1))\n",
    "print(round(-1.23125353,4))"
   ]
  },
  {
   "cell_type": "code",
   "execution_count": 7,
   "metadata": {},
   "outputs": [
    {
     "name": "stdout",
     "output_type": "stream",
     "text": [
      "120\n",
      "130\n",
      "100\n"
     ]
    }
   ],
   "source": [
    "print(round(123,-1))\n",
    "print(round(127,-1))\n",
    "print(round(123,-2))"
   ]
  },
  {
   "cell_type": "code",
   "execution_count": 8,
   "metadata": {},
   "outputs": [
    {
     "name": "stdout",
     "output_type": "stream",
     "text": [
      "6.3\n"
     ]
    }
   ],
   "source": [
    "from decimal import Decimal\n",
    "a=Decimal('4.2')\n",
    "b=Decimal('2.1')\n",
    "print(a+b)"
   ]
  },
  {
   "cell_type": "code",
   "execution_count": 9,
   "metadata": {},
   "outputs": [
    {
     "data": {
      "text/plain": [
       "True"
      ]
     },
     "execution_count": 9,
     "metadata": {},
     "output_type": "execute_result"
    }
   ],
   "source": [
    "(a+b)==Decimal('6.3')"
   ]
  },
  {
   "cell_type": "code",
   "execution_count": 11,
   "metadata": {},
   "outputs": [
    {
     "name": "stdout",
     "output_type": "stream",
     "text": [
      "0.7647058823529411764705882353\n",
      "0.765\n",
      "0.76470588235294117647058823529411764705882352941176\n"
     ]
    }
   ],
   "source": [
    "from decimal import localcontext\n",
    "a=Decimal('1.3')\n",
    "b=Decimal('1.7')\n",
    "\n",
    "print(a/b)\n",
    "with localcontext() as ctx:\n",
    "    ctx.prec=3\n",
    "    print(a/b)\n",
    "    ctx.prec=50\n",
    "    print(a/b)"
   ]
  },
  {
   "cell_type": "code",
   "execution_count": 12,
   "metadata": {},
   "outputs": [
    {
     "name": "stdout",
     "output_type": "stream",
     "text": [
      "1234.57\n",
      "1234.6    \n",
      "    1234.6\n",
      "  1234.6  \n",
      "1,234.56789\n",
      "1,234.6\n"
     ]
    }
   ],
   "source": [
    "x=1234.56789\n",
    "print(format(x,'0.2f'))\n",
    "print(format(x,'<10.1f'))\n",
    "print(format(x,'>10.1f'))\n",
    "\n",
    "print(format(x,'^10.1f'))\n",
    "\n",
    "print(format(x,','))\n",
    "\n",
    "print(format(x,'0,.1f'))"
   ]
  },
  {
   "cell_type": "code",
   "execution_count": 14,
   "metadata": {},
   "outputs": [
    {
     "name": "stdout",
     "output_type": "stream",
     "text": [
      "1.2e+03\n",
      "1.23E+03\n"
     ]
    }
   ],
   "source": [
    "print(format(x,'0.1e'))\n",
    "print(format(x,'0.2E'))"
   ]
  },
  {
   "cell_type": "code",
   "execution_count": 15,
   "metadata": {},
   "outputs": [
    {
     "name": "stdout",
     "output_type": "stream",
     "text": [
      "0b10011010010\n",
      "0o2322\n",
      "0x4d2\n"
     ]
    }
   ],
   "source": [
    "x=1234\n",
    "print(bin(x))\n",
    "print(oct(x))\n",
    "print(hex(x))"
   ]
  },
  {
   "cell_type": "code",
   "execution_count": 16,
   "metadata": {},
   "outputs": [
    {
     "name": "stdout",
     "output_type": "stream",
     "text": [
      "10011010010\n",
      "2322\n",
      "4d2\n"
     ]
    }
   ],
   "source": [
    "print(format(x,'b'))\n",
    "print(format(x,'o'))\n",
    "print(format(x,'x'))"
   ]
  },
  {
   "cell_type": "code",
   "execution_count": 17,
   "metadata": {},
   "outputs": [
    {
     "name": "stdout",
     "output_type": "stream",
     "text": [
      "-10011010010\n",
      "-4d2\n"
     ]
    }
   ],
   "source": [
    "x=-1234\n",
    "print(format(x,'b'))\n",
    "print(format(x,'x'))"
   ]
  },
  {
   "cell_type": "code",
   "execution_count": 18,
   "metadata": {},
   "outputs": [
    {
     "data": {
      "text/plain": [
       "'11111111111111111111101100101110'"
      ]
     },
     "execution_count": 18,
     "metadata": {},
     "output_type": "execute_result"
    }
   ],
   "source": [
    "format(2**32+x,'b')"
   ]
  },
  {
   "cell_type": "code",
   "execution_count": 21,
   "metadata": {},
   "outputs": [
    {
     "name": "stdout",
     "output_type": "stream",
     "text": [
      "b'\\x00\\x124V\\x00x\\x90\\xab\\x00\\xcd\\xef\\x01\\x00#\\x004'\n",
      "94522842520747284487117727783387188\n"
     ]
    }
   ],
   "source": [
    "x=94522842520747284487117727783387188\n",
    "x_byte=x.to_bytes(16,'big')\n",
    "print(x_byte)\n",
    "from_x_byte=int.from_bytes(x_byte,'big')\n",
    "print(from_x_byte)"
   ]
  },
  {
   "cell_type": "code",
   "execution_count": 22,
   "metadata": {},
   "outputs": [
    {
     "name": "stdout",
     "output_type": "stream",
     "text": [
      "208\n"
     ]
    },
    {
     "data": {
      "text/plain": [
       "b'\\x03X\\xf1\\x82iT\\x96\\xac\\xc7c\\x16\\xf3\\xb9\\xcf\\x18\\xee\\xec\\x91\\xd1\\x98\\xa2\\xc8\\xd9R\\xb5\\xd0'"
      ]
     },
     "execution_count": 22,
     "metadata": {},
     "output_type": "execute_result"
    }
   ],
   "source": [
    "x=523**23\n",
    "print(x.bit_length())\n",
    "nbytes, rem = divmod(x.bit_length(),8)\n",
    "if rem:\n",
    "    nbytes+=1\n",
    "x.to_bytes(nbytes,'little')"
   ]
  },
  {
   "cell_type": "code",
   "execution_count": 23,
   "metadata": {},
   "outputs": [
    {
     "name": "stdout",
     "output_type": "stream",
     "text": [
      "(2+4j) (3-5j)\n"
     ]
    }
   ],
   "source": [
    "a=complex(2,4)\n",
    "b=3-5j\n",
    "print(a,b)"
   ]
  },
  {
   "cell_type": "code",
   "execution_count": 24,
   "metadata": {},
   "outputs": [
    {
     "name": "stdout",
     "output_type": "stream",
     "text": [
      "2.0 4.0 (2-4j)\n"
     ]
    }
   ],
   "source": [
    "print(a.real, a.imag, a.conjugate())"
   ]
  },
  {
   "cell_type": "code",
   "execution_count": 25,
   "metadata": {},
   "outputs": [
    {
     "name": "stdout",
     "output_type": "stream",
     "text": [
      "(5-1j)\n",
      "(26+2j)\n",
      "(-0.4117647058823529+0.6470588235294118j)\n"
     ]
    }
   ],
   "source": [
    "print(a+b)\n",
    "print(a*b)\n",
    "print(a/b)"
   ]
  },
  {
   "cell_type": "code",
   "execution_count": 26,
   "metadata": {},
   "outputs": [
    {
     "data": {
      "text/plain": [
       "(24.83130584894638-11.356612711218174j)"
      ]
     },
     "execution_count": 26,
     "metadata": {},
     "output_type": "execute_result"
    }
   ],
   "source": [
    "import cmath\n",
    "cmath.sin(a)"
   ]
  },
  {
   "cell_type": "code",
   "execution_count": 27,
   "metadata": {},
   "outputs": [
    {
     "name": "stdout",
     "output_type": "stream",
     "text": [
      "inf -inf nan\n"
     ]
    }
   ],
   "source": [
    "a=float('inf')\n",
    "b=float('-inf')\n",
    "c=float('nan')\n",
    "print(a,b,c)"
   ]
  },
  {
   "cell_type": "code",
   "execution_count": 29,
   "metadata": {},
   "outputs": [
    {
     "name": "stdout",
     "output_type": "stream",
     "text": [
      "True\n",
      "True\n"
     ]
    }
   ],
   "source": [
    "import math\n",
    "print(math.isinf(a))\n",
    "print(math.isnan(c))"
   ]
  },
  {
   "cell_type": "code",
   "execution_count": 31,
   "metadata": {},
   "outputs": [
    {
     "name": "stdout",
     "output_type": "stream",
     "text": [
      "inf\n",
      "nan\n",
      "nan\n",
      "nan\n",
      "nan\n",
      "False\n",
      "True\n"
     ]
    }
   ],
   "source": [
    "print(a+45)\n",
    "print(a/a)\n",
    "print(a+b)\n",
    "print(c+23)\n",
    "d=float('nan')\n",
    "print(math.sqrt(c))\n",
    "print(c==d)\n",
    "print(math.isnan(c))"
   ]
  },
  {
   "cell_type": "code",
   "execution_count": 34,
   "metadata": {},
   "outputs": [
    {
     "name": "stdout",
     "output_type": "stream",
     "text": [
      "27/16\n",
      "35/64\n",
      "35 64\n"
     ]
    }
   ],
   "source": [
    "from fractions import Fraction\n",
    "a=Fraction(5,4)\n",
    "b=Fraction(7,16)\n",
    "print(a+b)\n",
    "print(a*b)\n",
    "c=a*b\n",
    "print(c.numerator,c.denominator)"
   ]
  },
  {
   "cell_type": "code",
   "execution_count": 35,
   "metadata": {},
   "outputs": [
    {
     "name": "stdout",
     "output_type": "stream",
     "text": [
      "0.546875\n",
      "4/7\n",
      "15/4\n"
     ]
    }
   ],
   "source": [
    "print(float(c))\n",
    "print(c.limit_denominator(8))\n",
    "x=3.75\n",
    "y=Fraction(*x.as_integer_ratio())\n",
    "print(y)"
   ]
  },
  {
   "cell_type": "code",
   "execution_count": 36,
   "metadata": {},
   "outputs": [
    {
     "name": "stdout",
     "output_type": "stream",
     "text": [
      "[1, 2, 3, 4, 1, 2, 3, 4]\n"
     ]
    }
   ],
   "source": [
    "x=[1,2,3,4]\n",
    "y=[5,6,7,8]\n",
    "\n",
    "print(x*2)"
   ]
  },
  {
   "cell_type": "code",
   "execution_count": 38,
   "metadata": {},
   "outputs": [
    {
     "name": "stdout",
     "output_type": "stream",
     "text": [
      "-229.99999999999983\n",
      "[-13.11474312   2.75956154   6.35518158]\n"
     ]
    }
   ],
   "source": [
    "import numpy as np\n",
    "import numpy.linalg as lg\n",
    "m=np.matrix([[1,-2,3],[0,4,5],[7,8,-9]])\n",
    "print(lg.det(m))\n",
    "print(lg.eigvals(m))"
   ]
  },
  {
   "cell_type": "code",
   "execution_count": null,
   "metadata": {},
   "outputs": [],
   "source": []
  }
 ],
 "metadata": {
  "kernelspec": {
   "display_name": "Python 3",
   "language": "python",
   "name": "python3"
  },
  "language_info": {
   "codemirror_mode": {
    "name": "ipython",
    "version": 3
   },
   "file_extension": ".py",
   "mimetype": "text/x-python",
   "name": "python",
   "nbconvert_exporter": "python",
   "pygments_lexer": "ipython3",
   "version": "3.6.7"
  }
 },
 "nbformat": 4,
 "nbformat_minor": 2
}
