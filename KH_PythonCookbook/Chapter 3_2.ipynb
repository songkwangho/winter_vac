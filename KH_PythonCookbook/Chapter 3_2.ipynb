{
 "cells": [
  {
   "cell_type": "code",
   "execution_count": 1,
   "metadata": {},
   "outputs": [
    {
     "name": "stdout",
     "output_type": "stream",
     "text": [
      "-229.99999999999983\n",
      "[-13.11474312   2.75956154   6.35518158]\n",
      "[[0.96521739]\n",
      " [0.17391304]\n",
      " [0.46086957]]\n"
     ]
    }
   ],
   "source": [
    "import numpy as np\n",
    "import numpy.linalg\n",
    "m=np.matrix([[1,-2,3],[0,4,5],[7,8,-9]])\n",
    "v=np.matrix([[2],[3],[4]])\n",
    "print(numpy.linalg.det(m))\n",
    "print(numpy.linalg.eigvals(m))\n",
    "print(numpy.linalg.solve(m,v))"
   ]
  },
  {
   "cell_type": "code",
   "execution_count": 3,
   "metadata": {},
   "outputs": [
    {
     "name": "stdout",
     "output_type": "stream",
     "text": [
      "4\n",
      "[3, 6]\n",
      "5\n",
      "[5, 6]\n",
      "5\n",
      "[6, 2]\n",
      "5\n",
      "[4, 6]\n",
      "2\n",
      "[4, 3]\n",
      "1\n",
      "[6, 2]\n"
     ]
    }
   ],
   "source": [
    "import random\n",
    "values=[1,2,3,4,5,6]\n",
    "for i in range(len(values)):\n",
    "    print(random.choice(values))\n",
    "    print(random.sample(values,2))"
   ]
  },
  {
   "cell_type": "code",
   "execution_count": 4,
   "metadata": {},
   "outputs": [
    {
     "name": "stdout",
     "output_type": "stream",
     "text": [
      "[4, 3, 2, 6, 5, 1]\n"
     ]
    }
   ],
   "source": [
    "random.shuffle(values)\n",
    "print(values)"
   ]
  },
  {
   "cell_type": "code",
   "execution_count": 5,
   "metadata": {},
   "outputs": [
    {
     "data": {
      "text/plain": [
       "5"
      ]
     },
     "execution_count": 5,
     "metadata": {},
     "output_type": "execute_result"
    }
   ],
   "source": [
    "random.randint(0,10)"
   ]
  },
  {
   "cell_type": "code",
   "execution_count": 6,
   "metadata": {},
   "outputs": [
    {
     "data": {
      "text/plain": [
       "0.22582275661576756"
      ]
     },
     "execution_count": 6,
     "metadata": {},
     "output_type": "execute_result"
    }
   ],
   "source": [
    "random.random()"
   ]
  },
  {
   "cell_type": "code",
   "execution_count": 7,
   "metadata": {},
   "outputs": [
    {
     "name": "stdout",
     "output_type": "stream",
     "text": [
      "2 days, 6:00:00\n"
     ]
    }
   ],
   "source": [
    "from datetime import timedelta\n",
    "a=timedelta(days=2,hours=6)\n",
    "print(a)"
   ]
  },
  {
   "cell_type": "code",
   "execution_count": 8,
   "metadata": {},
   "outputs": [
    {
     "name": "stdout",
     "output_type": "stream",
     "text": [
      "21600\n"
     ]
    }
   ],
   "source": [
    "print(a.seconds)"
   ]
  },
  {
   "cell_type": "code",
   "execution_count": 9,
   "metadata": {},
   "outputs": [
    {
     "name": "stdout",
     "output_type": "stream",
     "text": [
      "2012-10-03 00:00:00\n"
     ]
    }
   ],
   "source": [
    "from datetime import datetime\n",
    "a=datetime(2012,9,23)\n",
    "print(a+timedelta(days=10))"
   ]
  },
  {
   "cell_type": "code",
   "execution_count": 10,
   "metadata": {},
   "outputs": [
    {
     "name": "stdout",
     "output_type": "stream",
     "text": [
      "89\n"
     ]
    }
   ],
   "source": [
    "b=datetime(2012,12,21)\n",
    "d=b-a\n",
    "print(d.days)"
   ]
  },
  {
   "cell_type": "code",
   "execution_count": 11,
   "metadata": {},
   "outputs": [
    {
     "name": "stdout",
     "output_type": "stream",
     "text": [
      "2019-01-08 03:08:47.653831\n"
     ]
    }
   ],
   "source": [
    "print(datetime.today())"
   ]
  },
  {
   "cell_type": "code",
   "execution_count": 15,
   "metadata": {},
   "outputs": [
    {
     "name": "stdout",
     "output_type": "stream",
     "text": [
      "2019-01-08 03:21:21.471680\n",
      "1\n",
      "2019-01-07 03:21:21.471680\n",
      "1\n",
      "2019-01-01 03:21:21.471680\n"
     ]
    }
   ],
   "source": [
    "from datetime import datetime,timedelta\n",
    "weekdays=['Monday','Tuesday','Wednesday','Thursday','Friday','Saturday','Sunday']\n",
    "\n",
    "def get_previous_byday(dayname,start_date=None):\n",
    "    if start_date is None:\n",
    "        start_date=datetime.today()\n",
    "    day_num=start_date.weekday()\n",
    "    day_num_target=weekdays.index(dayname)\n",
    "    days_ago=(7+day_num-day_num_target)%7\n",
    "    if days_ago==0:\n",
    "        days_ago=7\n",
    "    target_date=start_date-timedelta(days=days_ago)\n",
    "    return target_date\n",
    "print(datetime.today())\n",
    "print(get_previous_byday('Monday'))\n",
    "print(get_previous_byday('Tuesday'))"
   ]
  },
  {
   "cell_type": "code",
   "execution_count": null,
   "metadata": {},
   "outputs": [],
   "source": []
  }
 ],
 "metadata": {
  "kernelspec": {
   "display_name": "Python 3",
   "language": "python",
   "name": "python3"
  },
  "language_info": {
   "codemirror_mode": {
    "name": "ipython",
    "version": 3
   },
   "file_extension": ".py",
   "mimetype": "text/x-python",
   "name": "python",
   "nbconvert_exporter": "python",
   "pygments_lexer": "ipython3",
   "version": "3.6.5"
  }
 },
 "nbformat": 4,
 "nbformat_minor": 2
}
