{
 "cells": [
  {
   "cell_type": "code",
   "execution_count": 21,
   "metadata": {},
   "outputs": [
    {
     "name": "stdout",
     "output_type": "stream",
     "text": [
      "4\n",
      "5\n"
     ]
    }
   ],
   "source": [
    "#-*- coding: utf-8 -*-\n",
    "p=(4,5)\n",
    "x,y=p\n",
    "print(x)\n",
    "print(y)"
   ]
  },
  {
   "cell_type": "code",
   "execution_count": 22,
   "metadata": {},
   "outputs": [
    {
     "name": "stdout",
     "output_type": "stream",
     "text": [
      "ACME\n",
      "(2012, 12, 21)\n"
     ]
    }
   ],
   "source": [
    "data=['ACME',50,91.1,(2012,12,21)]\n",
    "name,shares,price,date=data\n",
    "print(name)\n",
    "print(date)"
   ]
  },
  {
   "cell_type": "code",
   "execution_count": 23,
   "metadata": {},
   "outputs": [
    {
     "name": "stdout",
     "output_type": "stream",
     "text": [
      "ACME\n",
      "2012\n",
      "12\n",
      "21\n"
     ]
    }
   ],
   "source": [
    "name,shares,price,(year,mon,day)=data\n",
    "print(name)\n",
    "print(year)\n",
    "print(mon)\n",
    "print(day)"
   ]
  },
  {
   "cell_type": "code",
   "execution_count": 24,
   "metadata": {},
   "outputs": [
    {
     "name": "stdout",
     "output_type": "stream",
     "text": [
      "H\n",
      "l\n"
     ]
    }
   ],
   "source": [
    "s='Hello'\n",
    "a,b,c,d,e=s\n",
    "print(a)\n",
    "print(c)"
   ]
  },
  {
   "cell_type": "code",
   "execution_count": 25,
   "metadata": {},
   "outputs": [
    {
     "name": "stdout",
     "output_type": "stream",
     "text": [
      "dave\n",
      "['773-555-1212', '847-555-1212']\n"
     ]
    }
   ],
   "source": [
    "def drop_first_last(grades):\n",
    "    first,*middle,last=grades\n",
    "    return avg(middle)\n",
    "record=('dave','dave@example.com','773-555-1212','847-555-1212')\n",
    "name,email,*phone_numbers=record\n",
    "print(name)\n",
    "print(phone_numbers)"
   ]
  },
  {
   "cell_type": "code",
   "execution_count": 26,
   "metadata": {},
   "outputs": [
    {
     "name": "stdout",
     "output_type": "stream",
     "text": [
      "[10, 9, 8, 7, 1, 5, 10]\n",
      "3\n"
     ]
    }
   ],
   "source": [
    "*trailing,current=[10,9,8,7,1,5,10,3]\n",
    "print(trailing)\n",
    "print(current)"
   ]
  },
  {
   "cell_type": "code",
   "execution_count": 27,
   "metadata": {},
   "outputs": [
    {
     "name": "stdout",
     "output_type": "stream",
     "text": [
      "foo 1 2\n",
      "bar hello\n",
      "foo 3 4\n"
     ]
    }
   ],
   "source": [
    "records=[('foo',1,2),('bar','hello'),('foo',3,4)]\n",
    "def do_foo(x,y):\n",
    "    print('foo',x,y)\n",
    "def do_bar(s):\n",
    "    print('bar',s)\n",
    "for tag,*args in records:\n",
    "    if tag=='foo':\n",
    "        do_foo(*args)\n",
    "    elif tag=='bar':\n",
    "        do_bar(*args)"
   ]
  },
  {
   "cell_type": "code",
   "execution_count": 28,
   "metadata": {},
   "outputs": [
    {
     "name": "stdout",
     "output_type": "stream",
     "text": [
      "nobody\n",
      "/var/empty\n",
      "/usr/bin/false\n"
     ]
    }
   ],
   "source": [
    "line='nobody:*:-2:-2:Unprivileged User:/var/empty:/usr/bin/false'\n",
    "uname,*fields,homedir,sh=line.split(':')\n",
    "print(uname)\n",
    "print(homedir)\n",
    "print(sh)"
   ]
  },
  {
   "cell_type": "code",
   "execution_count": 29,
   "metadata": {},
   "outputs": [
    {
     "name": "stdout",
     "output_type": "stream",
     "text": [
      "ACME\n",
      "2012\n"
     ]
    }
   ],
   "source": [
    "record=('ACME',50,123.45,(12,18,2012))\n",
    "name,*_,(*_,year)=record\n",
    "print(name)\n",
    "print(year)"
   ]
  },
  {
   "cell_type": "code",
   "execution_count": 30,
   "metadata": {},
   "outputs": [
    {
     "name": "stdout",
     "output_type": "stream",
     "text": [
      "55\n"
     ]
    }
   ],
   "source": [
    "def my_sum(items):\n",
    "    head,*tail=items\n",
    "    return head+sum(tail) if tail else head\n",
    "print(my_sum([1,2,3,4,5,6,7,8,9,10]))"
   ]
  },
  {
   "cell_type": "code",
   "execution_count": 42,
   "metadata": {},
   "outputs": [
    {
     "name": "stdout",
     "output_type": "stream",
     "text": [
      "####################\n",
      "The Python yield keyword explained\n",
      "--------------------\n",
      "The Python yield keyword explained\n",
      "####################\n",
      "Hi there folks. Again welcome to yet another useful tutorial. This is again a stackoverflow answer. This one is related to the Python yield keyword. It explains you what yield, generators and iterables are. So without wasting any time lets continue with the answer.\n",
      "--------------------\n",
      "[1, 2, 3, 4]\n",
      "But in your code it gets a generator, which is good because:\n",
      "\n",
      "You don’t need to read the values twice.\n",
      "You can have a lot of children and you don’t want them all stored in memory.\n",
      "####################\n",
      "And it works because Python does not care if the argument of a method is a list or not. Python expects iterables so it will work with strings, lists, tuples and generators! This is called duck typing and is one of the reason why Python is so cool. But this is another story, for another question…\n",
      "--------------------\n"
     ]
    }
   ],
   "source": [
    "from collections import deque\n",
    "def search(lines,pattern,history=5):\n",
    "    previous_lines=deque(maxlen=history)\n",
    "    for line in lines:        \n",
    "        if pattern in line:\n",
    "            yield line,previous_lines\n",
    "        previous_lines.append(line) \n",
    "with open('somefile.txt') as f:\n",
    "    for line,prevlines in search(f,'Python',5):\n",
    "        for pline in prevlines:\n",
    "            print(pline,end='')\n",
    "        print('#'*20)\n",
    "        print(line,end='')\n",
    "        print('-'*20)"
   ]
  },
  {
   "cell_type": "code",
   "execution_count": 43,
   "metadata": {},
   "outputs": [
    {
     "name": "stdout",
     "output_type": "stream",
     "text": [
      "[42, 37, 23]\n",
      "[-4, 1, 2]\n"
     ]
    }
   ],
   "source": [
    "import heapq\n",
    "nums=[1,8,2,23,7,-4,18,23,42,37,2]\n",
    "print(heapq.nlargest(3,nums))\n",
    "print(heapq.nsmallest(3,nums))\n"
   ]
  },
  {
   "cell_type": "code",
   "execution_count": 46,
   "metadata": {},
   "outputs": [
    {
     "name": "stdout",
     "output_type": "stream",
     "text": [
      "[{'name': 'YHOO', 'shares': 45, 'price': 16.35}, {'name': 'FB', 'shares': 200, 'price': 21.09}, {'name': 'HPQ', 'shares': 35, 'price': 31.75}]\n",
      "[{'name': 'AAPL', 'shares': 50, 'price': 543.22}, {'name': 'ACME', 'shares': 75, 'price': 115.65}, {'name': 'IBM', 'shares': 100, 'price': 91.1}]\n"
     ]
    }
   ],
   "source": [
    "portfolio=[{'name':'IBM','shares':100,'price':91.1},\n",
    "           {'name':'AAPL','shares':50,'price':543.22},\n",
    "           {'name':'FB','shares':200,'price':21.09},\n",
    "           {'name':'HPQ','shares':35,'price':31.75},\n",
    "           {'name':'YHOO','shares':45,'price':16.35},\n",
    "           {'name':'ACME','shares':75,'price':115.65}]\n",
    "cheap=heapq.nsmallest(3,portfolio,key=lambda s:s['price'])\n",
    "expensive=heapq.nlargest(3,portfolio,key=lambda s:s['price'])\n",
    "print(cheap)\n",
    "print(expensive)"
   ]
  },
  {
   "cell_type": "code",
   "execution_count": 47,
   "metadata": {},
   "outputs": [
    {
     "name": "stdout",
     "output_type": "stream",
     "text": [
      "Item('bar')\n",
      "Item('spam')\n",
      "Item('foo')\n",
      "Item('grok')\n"
     ]
    }
   ],
   "source": [
    "class PriorityQueue:\n",
    "    def __init__(self):\n",
    "        self._queue=[]\n",
    "        self._index=0\n",
    "    def push(self,item,priority):\n",
    "        heapq.heappush(self._queue,(-priority,self._index,item))\n",
    "        self._index+=1\n",
    "    def pop(self):\n",
    "        return heapq.heappop(self._queue)[-1]\n",
    "class Item:\n",
    "    def __init__(self,name):\n",
    "        self.name=name\n",
    "    def __repr__(self):\n",
    "        return 'Item({!r})'.format(self.name)\n",
    "q=PriorityQueue()\n",
    "q.push(Item('foo'),1)\n",
    "q.push(Item('bar'),5)\n",
    "q.push(Item('spam'),4)\n",
    "q.push(Item('grok'),1)\n",
    "print(q.pop())\n",
    "print(q.pop())\n",
    "print(q.pop())\n",
    "print(q.pop())"
   ]
  },
  {
   "cell_type": "code",
   "execution_count": 48,
   "metadata": {},
   "outputs": [
    {
     "name": "stdout",
     "output_type": "stream",
     "text": [
      "defaultdict(<class 'list'>, {'a': [1, 2], 'b': [4]})\n"
     ]
    }
   ],
   "source": [
    "from collections import defaultdict\n",
    "d=defaultdict(list)\n",
    "d['a'].append(1)\n",
    "d['a'].append(2)\n",
    "d['b'].append(4)\n",
    "print(d)"
   ]
  },
  {
   "cell_type": "code",
   "execution_count": 54,
   "metadata": {},
   "outputs": [
    {
     "name": "stdout",
     "output_type": "stream",
     "text": [
      "set()\n",
      "defaultdict(<class 'set'>, {'a': {1, 2}, 'b': {4}, 'p': set()})\n"
     ]
    }
   ],
   "source": [
    "s=defaultdict(set)\n",
    "s['a'].add(1)\n",
    "s['a'].add(2)\n",
    "s['b'].add(4)\n",
    "print(s['p'])\n",
    "print(s)"
   ]
  },
  {
   "cell_type": "code",
   "execution_count": 52,
   "metadata": {},
   "outputs": [
    {
     "name": "stdout",
     "output_type": "stream",
     "text": [
      "{'a': [1, 2], 'b': [4]}\n"
     ]
    }
   ],
   "source": [
    "d={}\n",
    "d.setdefault('a',[]).append(1)\n",
    "d.setdefault('a',[]).append(2)\n",
    "d.setdefault('b',[]).append(4)\n",
    "print(d)"
   ]
  },
  {
   "cell_type": "code",
   "execution_count": 55,
   "metadata": {},
   "outputs": [
    {
     "name": "stdout",
     "output_type": "stream",
     "text": [
      "foo 1\n",
      "bar 2\n",
      "spam 3\n",
      "grok 4\n"
     ]
    }
   ],
   "source": [
    "from collections import OrderedDict\n",
    "d=OrderedDict()\n",
    "d['foo']=1\n",
    "d['bar']=2\n",
    "d['spam']=3\n",
    "d['grok']=4\n",
    "for key in d:\n",
    "    print(key,d[key])"
   ]
  },
  {
   "cell_type": "code",
   "execution_count": 58,
   "metadata": {},
   "outputs": [
    {
     "data": {
      "text/plain": [
       "'{\"foo\": 1, \"bar\": 2, \"spam\": 3, \"grok\": 4}'"
      ]
     },
     "execution_count": 58,
     "metadata": {},
     "output_type": "execute_result"
    }
   ],
   "source": [
    "import json\n",
    "json.dumps(d)"
   ]
  },
  {
   "cell_type": "code",
   "execution_count": 59,
   "metadata": {},
   "outputs": [
    {
     "name": "stdout",
     "output_type": "stream",
     "text": [
      "(10.75, 'FB') (612.78, 'AAPL')\n"
     ]
    }
   ],
   "source": [
    "prices={'ACME':45.23,\n",
    "       'AAPL':612.78,\n",
    "       'IBM':205.55,\n",
    "       'HPQ':37.20,\n",
    "       'FB':10.75}\n",
    "min_price=min(zip(prices.values(),prices.keys()))\n",
    "max_price=max(zip(prices.values(),prices.keys()))\n",
    "print(min_price,max_price)"
   ]
  },
  {
   "cell_type": "code",
   "execution_count": 61,
   "metadata": {},
   "outputs": [
    {
     "name": "stdout",
     "output_type": "stream",
     "text": [
      "[(10.75, 'FB'), (37.2, 'HPQ'), (45.23, 'ACME'), (205.55, 'IBM'), (612.78, 'AAPL')]\n"
     ]
    }
   ],
   "source": [
    "price_sorted=sorted(zip(prices.values(),prices.keys()))\n",
    "print(price_sorted)"
   ]
  },
  {
   "cell_type": "code",
   "execution_count": 63,
   "metadata": {},
   "outputs": [
    {
     "name": "stdout",
     "output_type": "stream",
     "text": [
      "{'y', 'x'}\n",
      "{'z'}\n",
      "{('y', 2)}\n"
     ]
    }
   ],
   "source": [
    "a={'x':1,'y':2,'z':3}\n",
    "b={'x':11,'y':2,'w':10}\n",
    "print(a.keys()&b.keys())\n",
    "print(a.keys()-b.keys())\n",
    "print(a.items()&b.items())"
   ]
  },
  {
   "cell_type": "code",
   "execution_count": 64,
   "metadata": {},
   "outputs": [
    {
     "name": "stdout",
     "output_type": "stream",
     "text": [
      "{'y': 2, 'x': 1}\n"
     ]
    }
   ],
   "source": [
    "c={key:a[key] for key in a.keys()-{'z','w'}}\n",
    "print(c)"
   ]
  },
  {
   "cell_type": "code",
   "execution_count": 65,
   "metadata": {},
   "outputs": [
    {
     "name": "stdout",
     "output_type": "stream",
     "text": [
      "[1, 5, 2, 9, 10]\n"
     ]
    }
   ],
   "source": [
    "def dedupe(items):\n",
    "    seen=set()\n",
    "    for item in items:\n",
    "        if item not in seen:\n",
    "            yield item\n",
    "            seen.add(item)\n",
    "a=[1,5,2,1,9,1,5,10]\n",
    "print(list(dedupe(a)))"
   ]
  },
  {
   "cell_type": "code",
   "execution_count": 68,
   "metadata": {},
   "outputs": [
    {
     "name": "stdout",
     "output_type": "stream",
     "text": [
      "[{'x': 1, 'y': 2}, {'x': 1, 'y': 3}, {'x': 2, 'y': 4}]\n"
     ]
    }
   ],
   "source": [
    "def dedupe_unhash(items,key=None):\n",
    "    seen=set()\n",
    "    for item in items:\n",
    "        val = item if key is None else key(item) \n",
    "        if val not in seen:\n",
    "            yield item\n",
    "            seen.add(val)\n",
    "t=[{'x':1,'y':2},\n",
    "   {'x':1,'y':3},\n",
    "   {'x':1,'y':2},\n",
    "   {'x':2,'y':4}]\n",
    "print(list(dedupe_unhash(t,key=lambda d:(d['x'],d['y']))))"
   ]
  },
  {
   "cell_type": "code",
   "execution_count": 69,
   "metadata": {},
   "outputs": [
    {
     "name": "stdout",
     "output_type": "stream",
     "text": [
      "[2, 3]\n",
      "[0, 1, 10, 11, 4, 5, 6]\n"
     ]
    }
   ],
   "source": [
    "items=[0,1,2,3,4,5,6]\n",
    "a=slice(2,4)\n",
    "print(items[a])\n",
    "items[a]=[10,11]\n",
    "print(items)\n"
   ]
  },
  {
   "cell_type": "code",
   "execution_count": 71,
   "metadata": {},
   "outputs": [
    {
     "name": "stdout",
     "output_type": "stream",
     "text": [
      "slice(10, 50, 2)\n",
      "10\n",
      "50\n",
      "2\n"
     ]
    }
   ],
   "source": [
    "a=slice(10,50,2)\n",
    "print(a)\n",
    "print(a.start)\n",
    "print(a.stop)\n",
    "print(a.step)"
   ]
  },
  {
   "cell_type": "code",
   "execution_count": 76,
   "metadata": {},
   "outputs": [
    {
     "name": "stdout",
     "output_type": "stream",
     "text": [
      "(5, 10, 2)\n",
      "W\n",
      "r\n",
      "d\n"
     ]
    }
   ],
   "source": [
    "a=slice(5,50,2)\n",
    "s='HelloWorld'\n",
    "print(a.indices(len(s)))\n",
    "for i in range(*a.indices(len(s))):\n",
    "    print(s[i])\n"
   ]
  },
  {
   "cell_type": "code",
   "execution_count": 78,
   "metadata": {},
   "outputs": [
    {
     "name": "stdout",
     "output_type": "stream",
     "text": [
      "[('eyes', 5), ('the', 3), ('look', 2)]\n"
     ]
    }
   ],
   "source": [
    "words=['look','into','my','eyes','look','into','my','eyes','the','eyes','the','eyes','the','eyes','not','around']\n",
    "from collections import Counter\n",
    "word_counts=Counter(words)\n",
    "top_three=word_counts.most_common(3)\n",
    "print(top_three)"
   ]
  },
  {
   "cell_type": "code",
   "execution_count": 79,
   "metadata": {},
   "outputs": [
    {
     "name": "stdout",
     "output_type": "stream",
     "text": [
      "5\n"
     ]
    }
   ],
   "source": [
    "morewords=['why','are','you','not','looking']\n",
    "for word in morewords:\n",
    "    word_counts[word]+=1\n",
    "print(word_counts['eyes'])"
   ]
  },
  {
   "cell_type": "code",
   "execution_count": 80,
   "metadata": {},
   "outputs": [
    {
     "name": "stdout",
     "output_type": "stream",
     "text": [
      "5\n"
     ]
    }
   ],
   "source": [
    "word_counts.update(morewords)\n",
    "print(word_counts['eyes'])"
   ]
  },
  {
   "cell_type": "code",
   "execution_count": 81,
   "metadata": {},
   "outputs": [
    {
     "name": "stdout",
     "output_type": "stream",
     "text": [
      "Counter({'eyes': 5, 'the': 3, 'look': 2, 'into': 2, 'my': 2, 'not': 1, 'around': 1})\n",
      "Counter({'why': 1, 'are': 1, 'you': 1, 'not': 1, 'looking': 1})\n",
      "Counter({'eyes': 5, 'the': 3, 'look': 2, 'into': 2, 'my': 2, 'not': 2, 'around': 1, 'why': 1, 'are': 1, 'you': 1, 'looking': 1})\n",
      "Counter({'eyes': 5, 'the': 3, 'look': 2, 'into': 2, 'my': 2, 'around': 1})\n"
     ]
    }
   ],
   "source": [
    "a=Counter(words)\n",
    "b=Counter(morewords)\n",
    "print(a)\n",
    "print(b)\n",
    "c=a+b\n",
    "print(c)\n",
    "d=a-b\n",
    "print(d)"
   ]
  },
  {
   "cell_type": "code",
   "execution_count": 82,
   "metadata": {},
   "outputs": [
    {
     "name": "stdout",
     "output_type": "stream",
     "text": [
      "[{'name': 'AAPL', 'shares': 50, 'price': 543.22}, {'name': 'ACME', 'shares': 75, 'price': 115.65}, {'name': 'FB', 'shares': 200, 'price': 21.09}, {'name': 'HPQ', 'shares': 35, 'price': 31.75}, {'name': 'IBM', 'shares': 100, 'price': 91.1}, {'name': 'YHOO', 'shares': 45, 'price': 16.35}]\n",
      "[{'name': 'YHOO', 'shares': 45, 'price': 16.35}, {'name': 'FB', 'shares': 200, 'price': 21.09}, {'name': 'HPQ', 'shares': 35, 'price': 31.75}, {'name': 'IBM', 'shares': 100, 'price': 91.1}, {'name': 'ACME', 'shares': 75, 'price': 115.65}, {'name': 'AAPL', 'shares': 50, 'price': 543.22}]\n"
     ]
    }
   ],
   "source": [
    "rows=[{'name':'IBM','shares':100,'price':91.1},\n",
    "           {'name':'AAPL','shares':50,'price':543.22},\n",
    "           {'name':'FB','shares':200,'price':21.09},\n",
    "           {'name':'HPQ','shares':35,'price':31.75},\n",
    "           {'name':'YHOO','shares':45,'price':16.35},\n",
    "           {'name':'ACME','shares':75,'price':115.65}]\n",
    "from operator import itemgetter\n",
    "rows_by_name=sorted(rows,key=itemgetter('name'))\n",
    "rows_by_price=sorted(rows,key=itemgetter('price'))\n",
    "print(rows_by_name)\n",
    "print(rows_by_price)"
   ]
  },
  {
   "cell_type": "code",
   "execution_count": 86,
   "metadata": {},
   "outputs": [
    {
     "name": "stdout",
     "output_type": "stream",
     "text": [
      "AAPL\n",
      "  {'name': 'AAPL', 'shares': 50, 'price': 543.22}\n",
      "ACME\n",
      "  {'name': 'ACME', 'shares': 75, 'price': 115.65}\n",
      "FB\n",
      "  {'name': 'FB', 'shares': 200, 'price': 21.09}\n",
      "HPQ\n",
      "  {'name': 'HPQ', 'shares': 35, 'price': 31.75}\n",
      "IBM\n",
      "  {'name': 'IBM', 'shares': 100, 'price': 91.1}\n",
      "YHOO\n",
      "  {'name': 'YHOO', 'shares': 45, 'price': 16.35}\n"
     ]
    }
   ],
   "source": [
    "rows=[{'name':'IBM','shares':100,'price':91.1},\n",
    "           {'name':'AAPL','shares':50,'price':543.22},\n",
    "           {'name':'FB','shares':200,'price':21.09},\n",
    "           {'name':'HPQ','shares':35,'price':31.75},\n",
    "           {'name':'YHOO','shares':45,'price':16.35},\n",
    "           {'name':'ACME','shares':75,'price':115.65}]\n",
    "\n",
    "from operator import itemgetter\n",
    "from itertools import groupby\n",
    "\n",
    "rows.sort(key=itemgetter('name'))\n",
    "for name,items  in groupby(rows,key=itemgetter('name')):\n",
    "    print(name)\n",
    "    for i in items:\n",
    "        print(' ', i)"
   ]
  },
  {
   "cell_type": "code",
   "execution_count": 87,
   "metadata": {},
   "outputs": [
    {
     "name": "stdout",
     "output_type": "stream",
     "text": [
      "[1, 4, 7, 2, 3]\n"
     ]
    }
   ],
   "source": [
    "mylist= [1,4,-5,-10,7,2,3,-1]\n",
    "print([n for n in mylist if n>0])"
   ]
  },
  {
   "cell_type": "code",
   "execution_count": 88,
   "metadata": {},
   "outputs": [
    {
     "name": "stdout",
     "output_type": "stream",
     "text": [
      "<generator object <genexpr> at 0x000001FEF557CE08>\n"
     ]
    }
   ],
   "source": [
    "pos=(n for n in mylist if n>0)\n",
    "print(pos)"
   ]
  },
  {
   "cell_type": "code",
   "execution_count": 89,
   "metadata": {},
   "outputs": [
    {
     "name": "stdout",
     "output_type": "stream",
     "text": [
      "1\n",
      "4\n",
      "7\n",
      "2\n",
      "3\n"
     ]
    }
   ],
   "source": [
    "for x in pos:\n",
    "    print(x)"
   ]
  },
  {
   "cell_type": "code",
   "execution_count": 90,
   "metadata": {},
   "outputs": [
    {
     "name": "stdout",
     "output_type": "stream",
     "text": [
      "['1', '2', '-3', '4', '5']\n"
     ]
    }
   ],
   "source": [
    "values=['1','2','-3','-','4','N/A','5']\n",
    "def is_int(val):\n",
    "    try:\n",
    "        x=int(val)\n",
    "        return True\n",
    "    except ValueError:\n",
    "        return False\n",
    "ivals=list(filter(is_int,values))\n",
    "print(ivals)"
   ]
  },
  {
   "cell_type": "code",
   "execution_count": 94,
   "metadata": {},
   "outputs": [
    {
     "name": "stdout",
     "output_type": "stream",
     "text": [
      "[False, True, True]\n",
      "['5148 N CLARK', '5800 E 58TH']\n"
     ]
    }
   ],
   "source": [
    "addresses=['5412 N CLARK','5148 N CLARK','5800 E 58TH' ]\n",
    "count=[0,3,10]\n",
    "from itertools import compress\n",
    "more3=[n>=3 for n in count]\n",
    "print(more3)\n",
    "print(list(compress(addresses,more3)))"
   ]
  },
  {
   "cell_type": "code",
   "execution_count": 2,
   "metadata": {},
   "outputs": [
    {
     "name": "stdout",
     "output_type": "stream",
     "text": [
      "Subscriber(addr='jonesy@example.com', joined='2012-10-19')\n",
      "jonesy@example.com\n",
      "2012-10-19\n"
     ]
    }
   ],
   "source": [
    "from collections import namedtuple\n",
    "Subscriber = namedtuple('Subscriber',['addr','joined'])\n",
    "sub=Subscriber('jonesy@example.com','2012-10-19')\n",
    "print(sub)\n",
    "print(sub.addr)\n",
    "print(sub.joined)"
   ]
  },
  {
   "cell_type": "code",
   "execution_count": 3,
   "metadata": {},
   "outputs": [
    {
     "name": "stdout",
     "output_type": "stream",
     "text": [
      "2\n",
      "jonesy@example.com 2012-10-19\n"
     ]
    }
   ],
   "source": [
    "print(len(sub))\n",
    "addr,joined=sub\n",
    "print(addr,joined)"
   ]
  },
  {
   "cell_type": "code",
   "execution_count": 4,
   "metadata": {},
   "outputs": [],
   "source": [
    "def compute_cost(records):\n",
    "    total=0.0\n",
    "    for rec in records:\n",
    "        total+=rec[1]*rec[2]\n",
    "    return total\n",
    "Stock=namedtuple('Stock', ['name','shares','price'])\n",
    "def compute_cost_nt(records):\n",
    "    total=0.0\n",
    "    for rec in records:\n",
    "        s=Stock(*rec)\n",
    "        total+=s.shares*s.price\n",
    "    return total\n"
   ]
  },
  {
   "cell_type": "code",
   "execution_count": 7,
   "metadata": {},
   "outputs": [
    {
     "name": "stdout",
     "output_type": "stream",
     "text": [
      "55\n"
     ]
    }
   ],
   "source": [
    "nums=[x for x in range(1,6)]\n",
    "s=sum(x*x for x in nums)\n",
    "print(s)"
   ]
  },
  {
   "cell_type": "code",
   "execution_count": 9,
   "metadata": {},
   "outputs": [
    {
     "name": "stdout",
     "output_type": "stream",
     "text": [
      "1\n",
      "2\n",
      "3\n"
     ]
    }
   ],
   "source": [
    "from collections import ChainMap\n",
    "a={'x':1,'z':3}\n",
    "b={'y':2,'z':4}\n",
    "c=ChainMap(a,b)\n",
    "print(c['x'])\n",
    "print(c['y'])\n",
    "print(c['z'])"
   ]
  },
  {
   "cell_type": "code",
   "execution_count": 12,
   "metadata": {},
   "outputs": [
    {
     "name": "stdout",
     "output_type": "stream",
     "text": [
      "ChainMap({'x': 2}, {'x': 1})\n",
      "2\n",
      "ChainMap({'x': 1})\n",
      "1\n"
     ]
    }
   ],
   "source": [
    "values=ChainMap()\n",
    "values['x']=1\n",
    "values=values.new_child()\n",
    "values['x']=2\n",
    "print(values)\n",
    "print(values['x'])\n",
    "values=values.parents\n",
    "print(values)\n",
    "print(values['x'])"
   ]
  },
  {
   "cell_type": "code",
   "execution_count": 13,
   "metadata": {},
   "outputs": [
    {
     "name": "stdout",
     "output_type": "stream",
     "text": [
      "ChainMap({'x': 42, 'z': 3}, {'y': 2, 'z': 4})\n"
     ]
    }
   ],
   "source": [
    "a['x']=42\n",
    "print(c)"
   ]
  },
  {
   "cell_type": "code",
   "execution_count": null,
   "metadata": {},
   "outputs": [],
   "source": []
  }
 ],
 "metadata": {
  "kernelspec": {
   "display_name": "Python 3",
   "language": "python",
   "name": "python3"
  },
  "language_info": {
   "codemirror_mode": {
    "name": "ipython",
    "version": 3
   },
   "file_extension": ".py",
   "mimetype": "text/x-python",
   "name": "python",
   "nbconvert_exporter": "python",
   "pygments_lexer": "ipython3",
   "version": "3.6.7"
  }
 },
 "nbformat": 4,
 "nbformat_minor": 2
}
