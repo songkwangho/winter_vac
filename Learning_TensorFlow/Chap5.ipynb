{
 "cells": [
  {
   "cell_type": "code",
   "execution_count": 2,
   "metadata": {},
   "outputs": [
    {
     "name": "stdout",
     "output_type": "stream",
     "text": [
      "WARNING:tensorflow:From <ipython-input-2-837f4f3d494a>:4: read_data_sets (from tensorflow.contrib.learn.python.learn.datasets.mnist) is deprecated and will be removed in a future version.\n",
      "Instructions for updating:\n",
      "Please use alternatives such as official/mnist/dataset.py from tensorflow/models.\n",
      "WARNING:tensorflow:From C:\\Users\\admin\\Anaconda3\\lib\\site-packages\\tensorflow\\contrib\\learn\\python\\learn\\datasets\\mnist.py:260: maybe_download (from tensorflow.contrib.learn.python.learn.datasets.base) is deprecated and will be removed in a future version.\n",
      "Instructions for updating:\n",
      "Please write your own downloading logic.\n",
      "WARNING:tensorflow:From C:\\Users\\admin\\Anaconda3\\lib\\site-packages\\tensorflow\\contrib\\learn\\python\\learn\\datasets\\mnist.py:262: extract_images (from tensorflow.contrib.learn.python.learn.datasets.mnist) is deprecated and will be removed in a future version.\n",
      "Instructions for updating:\n",
      "Please use tf.data to implement this functionality.\n",
      "Extracting /data\\train-images-idx3-ubyte.gz\n",
      "WARNING:tensorflow:From C:\\Users\\admin\\Anaconda3\\lib\\site-packages\\tensorflow\\contrib\\learn\\python\\learn\\datasets\\mnist.py:267: extract_labels (from tensorflow.contrib.learn.python.learn.datasets.mnist) is deprecated and will be removed in a future version.\n",
      "Instructions for updating:\n",
      "Please use tf.data to implement this functionality.\n",
      "Extracting /data\\train-labels-idx1-ubyte.gz\n",
      "WARNING:tensorflow:From C:\\Users\\admin\\Anaconda3\\lib\\site-packages\\tensorflow\\contrib\\learn\\python\\learn\\datasets\\mnist.py:110: dense_to_one_hot (from tensorflow.contrib.learn.python.learn.datasets.mnist) is deprecated and will be removed in a future version.\n",
      "Instructions for updating:\n",
      "Please use tf.one_hot on tensors.\n",
      "Extracting /data\\t10k-images-idx3-ubyte.gz\n",
      "Extracting /data\\t10k-labels-idx1-ubyte.gz\n",
      "WARNING:tensorflow:From C:\\Users\\admin\\Anaconda3\\lib\\site-packages\\tensorflow\\contrib\\learn\\python\\learn\\datasets\\mnist.py:290: DataSet.__init__ (from tensorflow.contrib.learn.python.learn.datasets.mnist) is deprecated and will be removed in a future version.\n",
      "Instructions for updating:\n",
      "Please use alternatives such as official/mnist/dataset.py from tensorflow/models.\n"
     ]
    }
   ],
   "source": [
    "import tensorflow as tf\n",
    "\n",
    "from tensorflow.examples.tutorials.mnist import input_data\n",
    "mnist=input_data.read_data_sets(\"/data\",one_hot=True)"
   ]
  },
  {
   "cell_type": "code",
   "execution_count": 21,
   "metadata": {},
   "outputs": [],
   "source": [
    "element_size=28\n",
    "time_steps=28\n",
    "num_classes=10\n",
    "batch_size=128\n",
    "hidden_layer_size=128\n",
    "\n",
    "LOG_DIR=\"logs/RNN_with_summaries\"\n",
    "_input=tf.placeholder(tf.float32, shape=[None,time_steps,element_size],name='inputs')\n",
    "y=tf.placeholder(tf.float32, shape=[None,num_classes],name='labels')\n",
    "\n",
    "batch_x, batch_y=mnist.train.next_batch(batch_size)\n",
    "batch_x=batch_x.reshape((batch_size,time_steps,element_size))"
   ]
  },
  {
   "cell_type": "code",
   "execution_count": 22,
   "metadata": {},
   "outputs": [],
   "source": [
    "def variable_summaries(var):\n",
    "    with tf.name_scope('summaries'):\n",
    "        mean=tf.reduce_mean(var)\n",
    "        tf.summary.scalar('mean',mean)\n",
    "        with tf.name_scope('stddev'):\n",
    "            stddev=tf.sqrt(tf.reduce_mean(tf.square(var-mean)))\n",
    "        tf.summary.scalar('stddev',stddev)\n",
    "        tf.summary.scalar('max',tf.reduce_max(var))\n",
    "        tf.summary.scalar('min',tf.reduce_min(var))\n",
    "        tf.summary.histogram('histogram',var)\n",
    "        "
   ]
  },
  {
   "cell_type": "code",
   "execution_count": 23,
   "metadata": {},
   "outputs": [],
   "source": [
    "with tf.name_scope('rnn_weights'):\n",
    "    with tf.name_scope(\"W_x\"):\n",
    "        Wx=tf.Variable(tf.zeros([element_size, hidden_layer_size]))\n",
    "        variable_summaries(Wx)\n",
    "    with tf.name_scope(\"W_h\"):\n",
    "        Wh=tf.Variable(tf.zeros([hidden_layer_size, hidden_layer_size]))\n",
    "        variable_summaries(Wh)\n",
    "    with tf.name_scope(\"Bias\"):\n",
    "        b_rnn=tf.Variable(tf.zeros([hidden_layer_size]))\n",
    "        variable_summaries(b_rnn)\n",
    "    "
   ]
  },
  {
   "cell_type": "code",
   "execution_count": 24,
   "metadata": {},
   "outputs": [],
   "source": [
    "def rnn_step(previous_hidden_state,x):\n",
    "    current_hidden_state=tf.tanh(tf.matmul(previous_hidden_state,Wh)+tf.matmul(x,Wx)+b_rnn)\n",
    "    return current_hidden_state"
   ]
  },
  {
   "cell_type": "code",
   "execution_count": 25,
   "metadata": {},
   "outputs": [],
   "source": [
    "processed_input=tf.transpose(_input,perm=[1,0,2])\n",
    "initial_hidden=tf.zeros([batch_size, hidden_layer_size])\n",
    "all_hidden_states=tf.scan(rnn_step,processed_input, initializer=initial_hidden,name='states')"
   ]
  },
  {
   "cell_type": "code",
   "execution_count": 26,
   "metadata": {},
   "outputs": [],
   "source": [
    "with tf.name_scope('linear_layer_weights') as scope:\n",
    "    with tf.name_scope(\"W_linear\"):\n",
    "        Wl=tf.Variable(tf.truncated_normal([hidden_layer_size,num_classes], mean=0, stddev=.01))\n",
    "        variable_summaries(Wl)\n",
    "    with tf.name_scope(\"Bias_linear\"):\n",
    "        bl=tf.Variable(tf.truncated_normal([num_classes],mean=0,stddev=.01))\n",
    "        variable_summaries(bl)\n",
    "def get_linear_layer(hidden_state):\n",
    "    return tf.matmul(hidden_state,Wl)+bl\n",
    "with tf.name_scope('linear_layer_weights') as scope:\n",
    "    all_outputs=tf.map_fn(get_linear_layer, all_hidden_states)\n",
    "    output=all_outputs[-1]\n",
    "    tf.summary.histogram('outputs',output)"
   ]
  },
  {
   "cell_type": "code",
   "execution_count": 27,
   "metadata": {},
   "outputs": [],
   "source": [
    "with tf.name_scope('cross_entropy'):\n",
    "    cross_entropy=tf.reduce_mean(tf.nn.softmax_cross_entropy_with_logits(logits=output,labels=y))\n",
    "    tf.summary.scalar('cross_entropy',cross_entropy)\n",
    "with tf.name_scope('train'):\n",
    "    train_step=tf.train.RMSPropOptimizer(0.001,0.9).minimize(cross_entropy)\n",
    "with tf.name_scope('accuracy'):\n",
    "    correct_prediction=tf.equal(tf.argmax(y,1),tf.argmax(output,1))\n",
    "    accuracy=(tf.reduce_mean(tf.cast(correct_prediction,tf.float32)))*100\n",
    "    tf.summary.scalar('accureacy',accuracy)\n",
    "merged=tf.summary.merge_all()"
   ]
  },
  {
   "cell_type": "code",
   "execution_count": 28,
   "metadata": {},
   "outputs": [],
   "source": [
    "test_data=mnist.test.images[:batch_size].reshape((-1,time_steps,element_size))\n",
    "test_label=mnist.test.labels[:batch_size]"
   ]
  },
  {
   "cell_type": "code",
   "execution_count": 41,
   "metadata": {},
   "outputs": [
    {
     "name": "stdout",
     "output_type": "stream",
     "text": [
      "Iter 0, Minibatch Loss= 2.303116, Training Accuracy= 5.46875\n",
      "Iter 1000, Minibatch Loss= 1.394797, Training Accuracy= 43.75000\n",
      "Iter 2000, Minibatch Loss= 0.592246, Training Accuracy= 82.03125\n",
      "Iter 3000, Minibatch Loss= 0.393879, Training Accuracy= 92.18750\n",
      "Iter 4000, Minibatch Loss= 0.148196, Training Accuracy= 93.75000\n",
      "Iter 5000, Minibatch Loss= 0.198646, Training Accuracy= 94.53125\n",
      "Iter 6000, Minibatch Loss= 0.205712, Training Accuracy= 94.53125\n",
      "Iter 7000, Minibatch Loss= 0.082582, Training Accuracy= 98.43750\n",
      "Iter 8000, Minibatch Loss= 0.056843, Training Accuracy= 98.43750\n",
      "Iter 9000, Minibatch Loss= 0.075027, Training Accuracy= 97.65625\n",
      "Test Accuracy: 97.65625\n"
     ]
    }
   ],
   "source": [
    "with tf.Session() as sess:\n",
    "    train_writer=tf.summary.FileWriter(LOG_DIR+'/train',graph=tf.get_default_graph())\n",
    "    test_writer=tf.summary.FileWriter(LOG_DIR+'/test',graph=tf.get_default_graph())\n",
    "    sess.run(tf.global_variables_initializer())\n",
    "    for i in range(10000):\n",
    "        batch_x, batch_y=mnist.train.next_batch(batch_size)\n",
    "        batch_x=batch_x.reshape((batch_size,time_steps,element_size))\n",
    "        sess.run([train_step],feed_dict={_input:batch_x,y:batch_y})\n",
    "        #train_writer.add_summary(summary,i)\n",
    "        if i%1000==0:\n",
    "            acc,loss, = sess.run([accuracy,cross_entropy],feed_dict={_input:batch_x,y:batch_y})\n",
    "            print(\"Iter \"+str(i)+\", Minibatch Loss= \"+\"{:.6f}\".format(loss)+\", Training Accuracy= \"+\"{:.5f}\".format(acc))\n",
    "        #if i%10:\n",
    "            #summary, acc=sess.run([merged,accuracy],feed_dict={_input:test_data, y:test_label})\n",
    "            #test_writer.add_summary(summary,i)\n",
    "    test_acc=sess.run(accuracy,feed_dict={_input:test_data, y:test_label})\n",
    "    print(\"Test Accuracy:\",test_acc)"
   ]
  },
  {
   "cell_type": "code",
   "execution_count": 1,
   "metadata": {
    "scrolled": true
   },
   "outputs": [
    {
     "name": "stdout",
     "output_type": "stream",
     "text": [
      "WARNING:tensorflow:From <ipython-input-1-fdc9a9840ca4>:3: read_data_sets (from tensorflow.contrib.learn.python.learn.datasets.mnist) is deprecated and will be removed in a future version.\n",
      "Instructions for updating:\n",
      "Please use alternatives such as official/mnist/dataset.py from tensorflow/models.\n",
      "WARNING:tensorflow:From C:\\Users\\admin\\Anaconda3\\lib\\site-packages\\tensorflow\\contrib\\learn\\python\\learn\\datasets\\mnist.py:260: maybe_download (from tensorflow.contrib.learn.python.learn.datasets.base) is deprecated and will be removed in a future version.\n",
      "Instructions for updating:\n",
      "Please write your own downloading logic.\n",
      "WARNING:tensorflow:From C:\\Users\\admin\\Anaconda3\\lib\\site-packages\\tensorflow\\contrib\\learn\\python\\learn\\datasets\\mnist.py:262: extract_images (from tensorflow.contrib.learn.python.learn.datasets.mnist) is deprecated and will be removed in a future version.\n",
      "Instructions for updating:\n",
      "Please use tf.data to implement this functionality.\n",
      "Extracting /data\\train-images-idx3-ubyte.gz\n",
      "WARNING:tensorflow:From C:\\Users\\admin\\Anaconda3\\lib\\site-packages\\tensorflow\\contrib\\learn\\python\\learn\\datasets\\mnist.py:267: extract_labels (from tensorflow.contrib.learn.python.learn.datasets.mnist) is deprecated and will be removed in a future version.\n",
      "Instructions for updating:\n",
      "Please use tf.data to implement this functionality.\n",
      "Extracting /data\\train-labels-idx1-ubyte.gz\n",
      "WARNING:tensorflow:From C:\\Users\\admin\\Anaconda3\\lib\\site-packages\\tensorflow\\contrib\\learn\\python\\learn\\datasets\\mnist.py:110: dense_to_one_hot (from tensorflow.contrib.learn.python.learn.datasets.mnist) is deprecated and will be removed in a future version.\n",
      "Instructions for updating:\n",
      "Please use tf.one_hot on tensors.\n",
      "Extracting /data\\t10k-images-idx3-ubyte.gz\n",
      "Extracting /data\\t10k-labels-idx1-ubyte.gz\n",
      "WARNING:tensorflow:From C:\\Users\\admin\\Anaconda3\\lib\\site-packages\\tensorflow\\contrib\\learn\\python\\learn\\datasets\\mnist.py:290: DataSet.__init__ (from tensorflow.contrib.learn.python.learn.datasets.mnist) is deprecated and will be removed in a future version.\n",
      "Instructions for updating:\n",
      "Please use alternatives such as official/mnist/dataset.py from tensorflow/models.\n",
      "WARNING:tensorflow:From <ipython-input-1-fdc9a9840ca4>:26: softmax_cross_entropy_with_logits (from tensorflow.python.ops.nn_ops) is deprecated and will be removed in a future version.\n",
      "Instructions for updating:\n",
      "\n",
      "Future major versions of TensorFlow will allow gradients to flow\n",
      "into the labels input on backprop by default.\n",
      "\n",
      "See `tf.nn.softmax_cross_entropy_with_logits_v2`.\n",
      "\n",
      "Iter 0, Minibatch Loss= 2.303283, Training Accuracy= 7.03125\n",
      "Iter 1000, Minibatch Loss= 0.144210, Training Accuracy= 96.87500\n",
      "Iter 2000, Minibatch Loss= 0.159536, Training Accuracy= 96.87500\n",
      "Iter 3000, Minibatch Loss= 0.072642, Training Accuracy= 97.65625\n",
      "Test Accuracy: 96.875\n"
     ]
    }
   ],
   "source": [
    "import tensorflow as tf\n",
    "from tensorflow.examples.tutorials.mnist import input_data\n",
    "mnist=input_data.read_data_sets(\"/data\",one_hot=True)\n",
    "element_size=28\n",
    "time_steps=28\n",
    "num_classes=10\n",
    "batch_size=128\n",
    "hidden_layer_size=128\n",
    "\n",
    "_inputs=tf.placeholder(tf.float32, shape=[None,time_steps,element_size],name='inputs')\n",
    "y=tf.placeholder(tf.float32, shape=[None,num_classes],name='labels')\n",
    "\n",
    "rnn_cell=tf.contrib.rnn.BasicRNNCell(hidden_layer_size)\n",
    "outputs,_=tf.nn.dynamic_rnn(rnn_cell,_inputs,dtype=tf.float32)\n",
    "\n",
    "Wl=tf.Variable(tf.truncated_normal([hidden_layer_size,num_classes], mean=0, stddev=.01))\n",
    "bl=tf.Variable(tf.truncated_normal([num_classes],mean=0,stddev=.01))\n",
    "\n",
    "def get_linear_layer(vector):\n",
    "    return tf.matmul(vector,Wl)+bl\n",
    "\n",
    "with tf.name_scope('train_basicrnn'):\n",
    "    last_rnn_output=outputs[:,-1,:]\n",
    "    final_output=get_linear_layer(last_rnn_output)\n",
    "\n",
    "    softmax=tf.nn.softmax_cross_entropy_with_logits(logits=final_output,labels=y)\n",
    "    cross_entropy=tf.reduce_mean(softmax)\n",
    "\n",
    "    train_step=tf.train.RMSPropOptimizer(0.001,0.9).minimize(cross_entropy)\n",
    "\n",
    "correct_prediction=tf.equal(tf.argmax(y,1),tf.argmax(final_output,1))\n",
    "accuracy=(tf.reduce_mean(tf.cast(correct_prediction,tf.float32)))*100\n",
    "\n",
    "sess=tf.InteractiveSession()\n",
    "sess.run(tf.global_variables_initializer())\n",
    "\n",
    "test_data=mnist.test.images[:batch_size].reshape((-1,time_steps,element_size))\n",
    "test_label=mnist.test.labels[:batch_size]\n",
    "\n",
    "for i in range(3001):\n",
    "    batch_x, batch_y=mnist.train.next_batch(batch_size)\n",
    "    batch_x=batch_x.reshape((batch_size,time_steps,element_size))\n",
    "    sess.run([train_step],feed_dict={_inputs:batch_x,y:batch_y})\n",
    "    if i%1000==0:\n",
    "        acc,loss = sess.run([accuracy,cross_entropy],feed_dict={_inputs:batch_x,y:batch_y})\n",
    "        print(\"Iter \"+str(i)+\", Minibatch Loss= \"+\"{:.6f}\".format(loss)+\", Training Accuracy= \"+\"{:.5f}\".format(acc))\n",
    "test_acc=sess.run(accuracy,feed_dict={_inputs:test_data, y:test_label})\n",
    "print(\"Test Accuracy:\",test_acc)"
   ]
  },
  {
   "cell_type": "code",
   "execution_count": 2,
   "metadata": {},
   "outputs": [
    {
     "name": "stdout",
     "output_type": "stream",
     "text": [
      "['Three Three Nine Seven PAD PAD', 'Five Five Nine PAD PAD PAD', 'Nine One Nine PAD PAD PAD', 'Three Seven One Seven Nine PAD', 'Seven Three One Nine PAD PAD', 'Three Three Five PAD PAD PAD']\n",
      "['Six Six Four Six PAD PAD', 'Eight Eight Eight PAD PAD PAD', 'Two Four Two PAD PAD PAD', 'Four Eight Eight Six Four PAD', 'Four Six Eight Two PAD PAD', 'Six Six Six PAD PAD PAD']\n",
      "['Three Three Nine Seven PAD PAD', 'Five Five Nine PAD PAD PAD', 'Nine One Nine PAD PAD PAD', 'Three Seven One Seven Nine PAD', 'Seven Three One Nine PAD PAD', 'Three Three Five PAD PAD PAD']\n",
      "[4, 3, 3, 5, 4, 3]\n"
     ]
    }
   ],
   "source": [
    "import numpy as np\n",
    "digit_to_word_map={1:\"One\",2:\"Two\",3:\"Three\",4:\"Four\",5:\"Five\",6:\"Six\",7:\"Seven\",8:\"Eight\",9:\"Nine\"}\n",
    "digit_to_word_map[0]=\"PAD\"\n",
    "even_sentences=[]\n",
    "odd_sentences=[]\n",
    "seqlens=[]\n",
    "for i in range(10000):\n",
    "    rand_seq_len=np.random.choice(range(3,7))\n",
    "    seqlens.append(rand_seq_len)\n",
    "    rand_odd_ints=np.random.choice(range(1,10,2),rand_seq_len)\n",
    "    rand_even_ints=np.random.choice(range(2,10,2),rand_seq_len)\n",
    "    if rand_seq_len<6:\n",
    "        rand_odd_ints=np.append(rand_odd_ints,[0]*(6-rand_seq_len))\n",
    "        rand_even_ints=np.append(rand_even_ints,[0]*(6-rand_seq_len))\n",
    "    even_sentences.append(\" \".join([digit_to_word_map[r] for r in rand_odd_ints]))\n",
    "    odd_sentences.append(\" \".join([digit_to_word_map[r] for r in rand_even_ints]))\n",
    "data=even_sentences+odd_sentences\n",
    "seqlens*=2\n",
    "print(even_sentences[0:6])\n",
    "\n",
    "print(odd_sentences[0:6])\n",
    "print(data[0:6])\n",
    "print(seqlens[0:6])"
   ]
  },
  {
   "cell_type": "code",
   "execution_count": 3,
   "metadata": {},
   "outputs": [
    {
     "name": "stdout",
     "output_type": "stream",
     "text": [
      "{'three': 0, 'nine': 1, 'seven': 2, 'pad': 3, 'five': 4, 'one': 5, 'six': 6, 'four': 7, 'eight': 8, 'two': 9}\n",
      "{0: 'three', 1: 'nine', 2: 'seven', 3: 'pad', 4: 'five', 5: 'one', 6: 'six', 7: 'four', 8: 'eight', 9: 'two'}\n"
     ]
    }
   ],
   "source": [
    "word2index_map={}\n",
    "index=0\n",
    "for sent in data:\n",
    "    for word in sent.lower().split():\n",
    "        if word not in word2index_map:\n",
    "            word2index_map[word]=index\n",
    "            index+=1\n",
    "index2word_map={index:word for word, index in word2index_map.items()}\n",
    "vocabulary_size=len(index2word_map)\n",
    "print(word2index_map)\n",
    "print(index2word_map)\n"
   ]
  },
  {
   "cell_type": "code",
   "execution_count": 4,
   "metadata": {},
   "outputs": [],
   "source": [
    "dummy=[1]*10000+[0]*10000\n",
    "labels=[0]*20000\n",
    "for i in range(len(dummy)):    \n",
    "    one_hot_encoding=[0,0]\n",
    "    one_hot_encoding[dummy[i]]=1\n",
    "    labels[i] = one_hot_encoding\n",
    "    \n",
    "data_indices=list(range(len(data)))\n",
    "np.random.shuffle(data_indices)\n",
    "\n",
    "data=np.array(data)[data_indices]    \n",
    "labels=np.array(labels)[data_indices]\n",
    "seqlens=np.array(seqlens)[data_indices]\n",
    "\n",
    "\n",
    "train_x=data[:10000]\n",
    "train_y=labels[:10000]\n",
    "train_seqlens=seqlens[:10000]\n",
    "\n",
    "test_x=data[10000:]\n",
    "test_y=labels[10000:]\n",
    "test_seqlens=seqlens[10000:]    "
   ]
  },
  {
   "cell_type": "code",
   "execution_count": 5,
   "metadata": {},
   "outputs": [],
   "source": [
    "def get_sentence_batch(batch_size,data_x,data_y,data_seqlens):\n",
    "    instance_indices=list(range(len(data_x)))\n",
    "    np.random.shuffle(instance_indices)\n",
    "    batch=instance_indices[:batch_size]\n",
    "    x=[[word2index_map[word] for word in data_x[i].lower().split()] for i in batch]\n",
    "    y=[data_y[i] for i in batch]\n",
    "    seqlens=[data_seqlens[i] for i in batch]\n",
    "    return x,y,seqlens"
   ]
  },
  {
   "cell_type": "code",
   "execution_count": 6,
   "metadata": {},
   "outputs": [],
   "source": [
    "import LSTM_supervised_embeddings as constval\n",
    "\n",
    "_inputs=tf.placeholder(tf.int32,shape=[constval.batch_size,constval.times_steps])\n",
    "_labels=tf.placeholder(tf.float32,shape=[constval.batch_size,constval.num_classes])\n",
    "\n",
    "_seqlens=tf.placeholder(tf.int32,shape=[constval.batch_size])"
   ]
  },
  {
   "cell_type": "code",
   "execution_count": 7,
   "metadata": {},
   "outputs": [],
   "source": [
    "with tf.name_scope(\"embeddings\"):\n",
    "    embeddings=tf.Variable(tf.random_uniform([vocabulary_size,constval.embedding_dimension],-1.0,1.0),name='embedding')\n",
    "    embed=tf.nn.embedding_lookup(embeddings,_inputs)    "
   ]
  },
  {
   "cell_type": "code",
   "execution_count": 8,
   "metadata": {},
   "outputs": [
    {
     "name": "stdout",
     "output_type": "stream",
     "text": [
      "WARNING:tensorflow:From <ipython-input-8-345d12c7f9be>:2: BasicLSTMCell.__init__ (from tensorflow.python.ops.rnn_cell_impl) is deprecated and will be removed in a future version.\n",
      "Instructions for updating:\n",
      "This class is deprecated, please use tf.nn.rnn_cell.LSTMCell, which supports all the feature this cell currently has. Please replace the existing code with tf.nn.rnn_cell.LSTMCell(name='basic_lstm_cell').\n"
     ]
    }
   ],
   "source": [
    "with tf.variable_scope(\"lstm\"):\n",
    "    lstm_cell=tf.contrib.rnn.BasicLSTMCell(constval.hidden_layer_size,forget_bias=1.0)\n",
    "    outputs,states=tf.nn.dynamic_rnn(lstm_cell,embed,sequence_length=_seqlens,dtype=tf.float32)\n",
    "weights={\n",
    "    'linear_layer':tf.Variable(tf.truncated_normal([constval.hidden_layer_size,constval.num_classes],mean=0,stddev=.01))\n",
    "}\n",
    "biases={\n",
    "    'linear_layer':tf.Variable(tf.truncated_normal([constval.num_classes],mean=0,stddev=.01))\n",
    "}\n",
    "final_output=tf.matmul(states[1],weights[\"linear_layer\"])+biases[\"linear_layer\"]\n",
    "softmax=tf.nn.softmax_cross_entropy_with_logits(logits=final_output,labels=_labels)\n",
    "cross_entropy=tf.reduce_mean(softmax)"
   ]
  },
  {
   "cell_type": "code",
   "execution_count": 9,
   "metadata": {},
   "outputs": [
    {
     "name": "stdout",
     "output_type": "stream",
     "text": [
      "Accuracy at 0:30.46875\n",
      "Accuracy at 100:100.0\n",
      "Accuracy at 200:100.0\n",
      "Accuracy at 300:100.0\n",
      "Accuracy at 400:100.0\n",
      "Accuracy at 500:100.0\n",
      "Accuracy at 600:100.0\n",
      "Accuracy at 700:100.0\n",
      "Accuracy at 800:100.0\n",
      "Accuracy at 900:100.0\n",
      "Test batch accuracy 0:100.0\n",
      "Test batch accuracy 1:100.0\n",
      "Test batch accuracy 2:100.0\n",
      "Test batch accuracy 3:100.0\n",
      "Test batch accuracy 4:100.0\n"
     ]
    }
   ],
   "source": [
    "train_step=tf.train.RMSPropOptimizer(0.001,0.9).minimize(cross_entropy)\n",
    "correct_prediction=tf.equal(tf.argmax(_labels,1),tf.argmax(final_output,1))\n",
    "accuracy=(tf.reduce_mean(tf.cast(correct_prediction,tf.float32)))*100\n",
    "with tf.Session() as sess:\n",
    "    sess.run(tf.global_variables_initializer())\n",
    "    for step in range(1000):\n",
    "        x_batch,y_batch,seqlen_batch=get_sentence_batch(batch_size,train_x,train_y,train_seqlens)\n",
    "        sess.run(train_step,feed_dict={_inputs:x_batch,_labels:y_batch,_seqlens:seqlen_batch})\n",
    "        if step % 100==0:\n",
    "            acc=sess.run(accuracy,feed_dict={_inputs:x_batch,_labels:y_batch,_seqlens:seqlen_batch})\n",
    "            print(\"Accuracy at {}:{}\".format(step,acc))\n",
    "    for test_batch in range(5):\n",
    "        x_test,y_test,seqlen_test=get_sentence_batch(batch_size,test_x,test_y,test_seqlens)\n",
    "        batch_pred,batch_acc=sess.run([tf.argmax(final_output,1),accuracy],feed_dict={_inputs:x_test,_labels:y_test,_seqlens:seqlen_test})\n",
    "        print(\"Test batch accuracy {}:{}\".format(test_batch,batch_acc))\n",
    "    output_example=sess.run([outputs],feed_dict={_inputs:x_test,_labels:y_test,_seqlens:seqlen_test})\n",
    "    states_example=sess.run([states[1]],feed_dict={_inputs:x_test,_labels:y_test,_seqlens:seqlen_test})"
   ]
  },
  {
   "cell_type": "code",
   "execution_count": 12,
   "metadata": {},
   "outputs": [
    {
     "name": "stdout",
     "output_type": "stream",
     "text": [
      "3\n",
      "(6, 32)\n",
      "[[-0.4516028   0.5247337   0.25664377]\n",
      " [-0.70696455  0.745164    0.6260608 ]\n",
      " [-0.9193043   0.85252273  0.7975621 ]\n",
      " [ 0.          0.          0.        ]\n",
      " [ 0.          0.          0.        ]\n",
      " [ 0.          0.          0.        ]]\n",
      "[-0.9193043   0.85252273  0.7975621 ]\n"
     ]
    }
   ],
   "source": [
    "print(seqlen_test[1])\n",
    "print(output_example[0][1].shape)\n",
    "print(output_example[0][1][:6,0:3])\n",
    "print(states_example[0][1][0:3])"
   ]
  },
  {
   "cell_type": "code",
   "execution_count": null,
   "metadata": {},
   "outputs": [],
   "source": []
  }
 ],
 "metadata": {
  "kernelspec": {
   "display_name": "Python 3",
   "language": "python",
   "name": "python3"
  },
  "language_info": {
   "codemirror_mode": {
    "name": "ipython",
    "version": 3
   },
   "file_extension": ".py",
   "mimetype": "text/x-python",
   "name": "python",
   "nbconvert_exporter": "python",
   "pygments_lexer": "ipython3",
   "version": "3.6.7"
  }
 },
 "nbformat": 4,
 "nbformat_minor": 2
}
