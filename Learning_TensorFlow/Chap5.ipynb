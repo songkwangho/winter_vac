{
 "cells": [
  {
   "cell_type": "code",
   "execution_count": 20,
   "metadata": {},
   "outputs": [
    {
     "name": "stdout",
     "output_type": "stream",
     "text": [
      "Extracting /data\\train-images-idx3-ubyte.gz\n",
      "Extracting /data\\train-labels-idx1-ubyte.gz\n",
      "Extracting /data\\t10k-images-idx3-ubyte.gz\n",
      "Extracting /data\\t10k-labels-idx1-ubyte.gz\n"
     ]
    }
   ],
   "source": [
    "import tensorflow as tf\n",
    "\n",
    "from tensorflow.examples.tutorials.mnist import input_data\n",
    "mnist=input_data.read_data_sets(\"/data\",one_hot=True)"
   ]
  },
  {
   "cell_type": "code",
   "execution_count": 21,
   "metadata": {},
   "outputs": [],
   "source": [
    "element_size=28\n",
    "time_steps=28\n",
    "num_classes=10\n",
    "batch_size=128\n",
    "hidden_layer_size=128\n",
    "\n",
    "LOG_DIR=\"logs/RNN_with_summaries\"\n",
    "_input=tf.placeholder(tf.float32, shape=[None,time_steps,element_size],name='inputs')\n",
    "y=tf.placeholder(tf.float32, shape=[None,num_classes],name='labels')\n",
    "\n",
    "batch_x, batch_y=mnist.train.next_batch(batch_size)\n",
    "batch_x=batch_x.reshape((batch_size,time_steps,element_size))"
   ]
  },
  {
   "cell_type": "code",
   "execution_count": 22,
   "metadata": {},
   "outputs": [],
   "source": [
    "def variable_summaries(var):\n",
    "    with tf.name_scope('summaries'):\n",
    "        mean=tf.reduce_mean(var)\n",
    "        tf.summary.scalar('mean',mean)\n",
    "        with tf.name_scope('stddev'):\n",
    "            stddev=tf.sqrt(tf.reduce_mean(tf.square(var-mean)))\n",
    "        tf.summary.scalar('stddev',stddev)\n",
    "        tf.summary.scalar('max',tf.reduce_max(var))\n",
    "        tf.summary.scalar('min',tf.reduce_min(var))\n",
    "        tf.summary.histogram('histogram',var)\n",
    "        "
   ]
  },
  {
   "cell_type": "code",
   "execution_count": 23,
   "metadata": {},
   "outputs": [],
   "source": [
    "with tf.name_scope('rnn_weights'):\n",
    "    with tf.name_scope(\"W_x\"):\n",
    "        Wx=tf.Variable(tf.zeros([element_size, hidden_layer_size]))\n",
    "        variable_summaries(Wx)\n",
    "    with tf.name_scope(\"W_h\"):\n",
    "        Wh=tf.Variable(tf.zeros([hidden_layer_size, hidden_layer_size]))\n",
    "        variable_summaries(Wh)\n",
    "    with tf.name_scope(\"Bias\"):\n",
    "        b_rnn=tf.Variable(tf.zeros([hidden_layer_size]))\n",
    "        variable_summaries(b_rnn)\n",
    "    "
   ]
  },
  {
   "cell_type": "code",
   "execution_count": 24,
   "metadata": {},
   "outputs": [],
   "source": [
    "def rnn_step(previous_hidden_state,x):\n",
    "    current_hidden_state=tf.tanh(tf.matmul(previous_hidden_state,Wh)+tf.matmul(x,Wx)+b_rnn)\n",
    "    return current_hidden_state"
   ]
  },
  {
   "cell_type": "code",
   "execution_count": 25,
   "metadata": {},
   "outputs": [],
   "source": [
    "processed_input=tf.transpose(_input,perm=[1,0,2])\n",
    "initial_hidden=tf.zeros([batch_size, hidden_layer_size])\n",
    "all_hidden_states=tf.scan(rnn_step,processed_input, initializer=initial_hidden,name='states')"
   ]
  },
  {
   "cell_type": "code",
   "execution_count": 26,
   "metadata": {},
   "outputs": [],
   "source": [
    "with tf.name_scope('linear_layer_weights') as scope:\n",
    "    with tf.name_scope(\"W_linear\"):\n",
    "        Wl=tf.Variable(tf.truncated_normal([hidden_layer_size,num_classes], mean=0, stddev=.01))\n",
    "        variable_summaries(Wl)\n",
    "    with tf.name_scope(\"Bias_linear\"):\n",
    "        bl=tf.Variable(tf.truncated_normal([num_classes],mean=0,stddev=.01))\n",
    "        variable_summaries(bl)\n",
    "def get_linear_layer(hidden_state):\n",
    "    return tf.matmul(hidden_state,Wl)+bl\n",
    "with tf.name_scope('linear_layer_weights') as scope:\n",
    "    all_outputs=tf.map_fn(get_linear_layer, all_hidden_states)\n",
    "    output=all_outputs[-1]\n",
    "    tf.summary.histogram('outputs',output)"
   ]
  },
  {
   "cell_type": "code",
   "execution_count": 27,
   "metadata": {},
   "outputs": [],
   "source": [
    "with tf.name_scope('cross_entropy'):\n",
    "    cross_entropy=tf.reduce_mean(tf.nn.softmax_cross_entropy_with_logits(logits=output,labels=y))\n",
    "    tf.summary.scalar('cross_entropy',cross_entropy)\n",
    "with tf.name_scope('train'):\n",
    "    train_step=tf.train.RMSPropOptimizer(0.001,0.9).minimize(cross_entropy)\n",
    "with tf.name_scope('accuracy'):\n",
    "    correct_prediction=tf.equal(tf.argmax(y,1),tf.argmax(output,1))\n",
    "    accuracy=(tf.reduce_mean(tf.cast(correct_prediction,tf.float32)))*100\n",
    "    tf.summary.scalar('accureacy',accuracy)\n",
    "merged=tf.summary.merge_all()"
   ]
  },
  {
   "cell_type": "code",
   "execution_count": 28,
   "metadata": {},
   "outputs": [],
   "source": [
    "test_data=mnist.test.images[:batch_size].reshape((-1,time_steps,element_size))\n",
    "test_label=mnist.test.labels[:batch_size]"
   ]
  },
  {
   "cell_type": "code",
   "execution_count": 41,
   "metadata": {},
   "outputs": [
    {
     "name": "stdout",
     "output_type": "stream",
     "text": [
      "Iter 0, Minibatch Loss= 2.303116, Training Accuracy= 5.46875\n",
      "Iter 1000, Minibatch Loss= 1.394797, Training Accuracy= 43.75000\n",
      "Iter 2000, Minibatch Loss= 0.592246, Training Accuracy= 82.03125\n",
      "Iter 3000, Minibatch Loss= 0.393879, Training Accuracy= 92.18750\n",
      "Iter 4000, Minibatch Loss= 0.148196, Training Accuracy= 93.75000\n",
      "Iter 5000, Minibatch Loss= 0.198646, Training Accuracy= 94.53125\n",
      "Iter 6000, Minibatch Loss= 0.205712, Training Accuracy= 94.53125\n",
      "Iter 7000, Minibatch Loss= 0.082582, Training Accuracy= 98.43750\n",
      "Iter 8000, Minibatch Loss= 0.056843, Training Accuracy= 98.43750\n",
      "Iter 9000, Minibatch Loss= 0.075027, Training Accuracy= 97.65625\n",
      "Test Accuracy: 97.65625\n"
     ]
    }
   ],
   "source": [
    "with tf.Session() as sess:\n",
    "    train_writer=tf.summary.FileWriter(LOG_DIR+'/train',graph=tf.get_default_graph())\n",
    "    test_writer=tf.summary.FileWriter(LOG_DIR+'/test',graph=tf.get_default_graph())\n",
    "    sess.run(tf.global_variables_initializer())\n",
    "    for i in range(10000):\n",
    "        batch_x, batch_y=mnist.train.next_batch(batch_size)\n",
    "        batch_x=batch_x.reshape((batch_size,time_steps,element_size))\n",
    "        sess.run([train_step],feed_dict={_input:batch_x,y:batch_y})\n",
    "        #train_writer.add_summary(summary,i)\n",
    "        if i%1000==0:\n",
    "            acc,loss, = sess.run([accuracy,cross_entropy],feed_dict={_input:batch_x,y:batch_y})\n",
    "            print(\"Iter \"+str(i)+\", Minibatch Loss= \"+\"{:.6f}\".format(loss)+\", Training Accuracy= \"+\"{:.5f}\".format(acc))\n",
    "        #if i%10:\n",
    "            #summary, acc=sess.run([merged,accuracy],feed_dict={_input:test_data, y:test_label})\n",
    "            #test_writer.add_summary(summary,i)\n",
    "    test_acc=sess.run(accuracy,feed_dict={_input:test_data, y:test_label})\n",
    "    print(\"Test Accuracy:\",test_acc)"
   ]
  },
  {
   "cell_type": "code",
   "execution_count": null,
   "metadata": {},
   "outputs": [],
   "source": []
  },
  {
   "cell_type": "code",
   "execution_count": null,
   "metadata": {},
   "outputs": [],
   "source": []
  }
 ],
 "metadata": {
  "kernelspec": {
   "display_name": "Python 3",
   "language": "python",
   "name": "python3"
  },
  "language_info": {
   "codemirror_mode": {
    "name": "ipython",
    "version": 3
   },
   "file_extension": ".py",
   "mimetype": "text/x-python",
   "name": "python",
   "nbconvert_exporter": "python",
   "pygments_lexer": "ipython3",
   "version": "3.6.7"
  }
 },
 "nbformat": 4,
 "nbformat_minor": 2
}
