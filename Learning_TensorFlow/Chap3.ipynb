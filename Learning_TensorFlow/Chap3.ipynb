{
 "cells": [
  {
   "cell_type": "code",
   "execution_count": 2,
   "metadata": {},
   "outputs": [],
   "source": [
    "import numpy as np\n",
    "import tensorflow as tf"
   ]
  },
  {
   "cell_type": "code",
   "execution_count": 3,
   "metadata": {},
   "outputs": [
    {
     "name": "stdout",
     "output_type": "stream",
     "text": [
      "python List input :(2, 3)\n"
     ]
    }
   ],
   "source": [
    "c=tf.constant([[1,2,3],[4,5,6]])\n",
    "print(\"python List input :{}\".format(c.get_shape()))"
   ]
  },
  {
   "cell_type": "code",
   "execution_count": 4,
   "metadata": {},
   "outputs": [
    {
     "name": "stdout",
     "output_type": "stream",
     "text": [
      "The content of 'c' : \n",
      " [0. 1. 2. 3. 4.] \n",
      "\n"
     ]
    }
   ],
   "source": [
    "sess=tf.InteractiveSession()\n",
    "c=tf.linspace(0.0,4.0,5)\n",
    "print(\"The content of 'c' : \\n {} \\n\".format(c.eval()))\n",
    "sess.close()"
   ]
  },
  {
   "cell_type": "code",
   "execution_count": 5,
   "metadata": {},
   "outputs": [
    {
     "name": "stdout",
     "output_type": "stream",
     "text": [
      "c:0\n",
      "c_1:0\n"
     ]
    }
   ],
   "source": [
    "with tf.Graph().as_default():\n",
    "    c1=tf.constant(4,dtype=tf.float64,name='c')\n",
    "    c2=tf.constant(4,dtype=tf.int32,name='c')\n",
    "print(c1.name)\n",
    "print(c2.name)"
   ]
  },
  {
   "cell_type": "code",
   "execution_count": 6,
   "metadata": {},
   "outputs": [
    {
     "name": "stdout",
     "output_type": "stream",
     "text": [
      "c:0\n",
      "prefix_name/c:0\n",
      "prefix_name/c_1:0\n"
     ]
    }
   ],
   "source": [
    "with tf.Graph().as_default():\n",
    "    c1=tf.constant(4,dtype=tf.float64,name='c')\n",
    "    with tf.name_scope(\"prefix_name\"):\n",
    "        c2=tf.constant(4,dtype=tf.int32,name='c')\n",
    "        c3=tf.constant(4,dtype=tf.float64,name='c')\n",
    "print(c1.name)\n",
    "print(c2.name)\n",
    "print(c3.name)"
   ]
  },
  {
   "cell_type": "code",
   "execution_count": 23,
   "metadata": {},
   "outputs": [
    {
     "name": "stdout",
     "output_type": "stream",
     "text": [
      "pre run: \n",
      "<tf.Variable 'val_15:0' shape=(1, 5) dtype=float32_ref>\n",
      "pre run with get_variables: \n",
      "<tf.Variable 'test/nvar:0' shape=(1, 5) dtype=float32_ref>\n",
      "\n",
      "post run: \n",
      "[[ 1.0996195  -0.24815314 -0.49640796  0.45083258 -0.31734717]]\n",
      "\n",
      "post run with get_variables: \n",
      "[[-1.1718816  -0.11804533  0.36945188  0.7537408  -0.67279863]]\n"
     ]
    }
   ],
   "source": [
    "init_val=tf.random_normal((1,5),0,1)\n",
    "var=tf.Variable(init_val,name='val')\n",
    "print(\"pre run: \\n{}\".format(var))\n",
    "with tf.variable_scope(\"test\") as scope:\n",
    "    try:\n",
    "        prevar=tf.get_variable('nvar',[1,5],initializer=tf.random_normal_initializer(0,1))\n",
    "    except ValueError:\n",
    "        scope.reuse_variables()\n",
    "        prevar = tf.get_variable('nvar', [1,5])\n",
    "    \n",
    "print(\"pre run with get_variables: \\n{}\".format(prevar))\n",
    "\n",
    "init=tf.global_variables_initializer()\n",
    "with tf.Session() as sess:\n",
    "    sess.run(init)\n",
    "    post_var=sess.run(var)\n",
    "    post_prevar=sess.run(prevar)\n",
    "print(\"\\npost run: \\n{}\".format(post_var))\n",
    "print(\"\\npost run with get_variables: \\n{}\".format(post_prevar))\n",
    "\n"
   ]
  },
  {
   "cell_type": "code",
   "execution_count": 25,
   "metadata": {},
   "outputs": [
    {
     "name": "stdout",
     "output_type": "stream",
     "text": [
      "outs = 2.549553394317627\n"
     ]
    }
   ],
   "source": [
    "x_data=np.random.randn(5,10)\n",
    "w_data=np.random.randn(10,1)\n",
    "\n",
    "with tf.Graph().as_default():\n",
    "    x=tf.placeholder(tf.float32,shape=(5,10))\n",
    "    w=tf.placeholder(tf.float32,shape=(10,1))\n",
    "    b=tf.fill((5,1),-1.)\n",
    "    xw=tf.matmul(x,w)\n",
    "    xwb=xw+b\n",
    "    s=tf.reduce_max(xwb)\n",
    "    with tf.Session() as sess:\n",
    "        outs=sess.run(s,feed_dict={x:x_data, w:w_data})\n",
    "    print(\"outs = {}\".format(outs))"
   ]
  },
  {
   "cell_type": "code",
   "execution_count": 73,
   "metadata": {},
   "outputs": [
    {
     "name": "stdout",
     "output_type": "stream",
     "text": [
      "(2000, 3) (1, 2000)\n",
      "0 [array([[0.2864741 , 0.50823814, 0.1009414 ]], dtype=float32), -0.22970003]\n",
      "5 [array([[0.29599038, 0.5041634 , 0.0976471 ]], dtype=float32), -0.19871648]\n",
      "10 [array([[0.29599065, 0.5041634 , 0.09764703]], dtype=float32), -0.19871636]\n"
     ]
    }
   ],
   "source": [
    "\n",
    "x_data=np.random.randn(2000,3)\n",
    "w_real=[0.3,0.5,0.1]\n",
    "b_real=-0.2\n",
    "\n",
    "noise=np.random.randn(1,2000)*0.1\n",
    "\n",
    "y_data=np.matmul(w_real,x_data.T)+b_real+noise\n",
    "print(x_data.shape,y_data.shape)\n",
    "NUM_STEPS=10\n",
    "g=tf.Graph()\n",
    "wb_=[]\n",
    "with g.as_default():\n",
    "    x=tf.placeholder(tf.float32,shape=[None,3])\n",
    "    y_true=tf.placeholder(tf.float32,shape=None)\n",
    "    with tf.name_scope('inference') as scope:\n",
    "        w=tf.Variable([[0,0,0]],dtype=tf.float32,name='weights')\n",
    "        b=tf.Variable(0,dtype=tf.float32,name='bias')\n",
    "        y_pred=tf.matmul(w,tf.transpose(x))+b\n",
    "    \n",
    "    with tf.name_scope('loss') as scope:\n",
    "        loss=tf.reduce_mean(tf.square(y_true-y_pred))\n",
    "    with tf.name_scope('train') as scope: \n",
    "        learning_rate=0.5\n",
    "        optimizer=tf.train.GradientDescentOptimizer(learning_rate)\n",
    "        train=optimizer.minimize(loss)\n",
    "    init=tf.global_variables_initializer()\n",
    "    with tf.Session() as sess:\n",
    "        sess.run(init)\n",
    "        for step in range(NUM_STEPS):\n",
    "            sess.run(train,{x:x_data,y_true:y_data})\n",
    "            if(step%5)==0:\n",
    "                print(step,sess.run([w,b]))\n",
    "                wb_.append(sess.run([w,b]))\n",
    "        print(10,sess.run([w,b]))"
   ]
  },
  {
   "cell_type": "code",
   "execution_count": 52,
   "metadata": {},
   "outputs": [],
   "source": [
    "N=20000\n",
    "def sigmoid(x):\n",
    "    return 1/(1+np.exp(x))\n",
    "\n",
    "x_data=np.random.randn(N,3)\n",
    "w_real=[0.3,0.5,0.1]\n",
    "b_real=-0.2\n",
    "wxb=np.matmul(w_real,x_data.T)+b_real\n",
    "\n",
    "y_data_pre_noise=sigmoid(wxb)\n",
    "y_data=np.random.binomial(1,y_data_pre_noise)\n"
   ]
  },
  {
   "cell_type": "code",
   "execution_count": 78,
   "metadata": {},
   "outputs": [
    {
     "name": "stdout",
     "output_type": "stream",
     "text": [
      "0 [array([[0.03474511, 0.06039654, 0.0138298 ]], dtype=float32), -0.023775116]\n",
      "5 [array([[0.15418848, 0.26754662, 0.06135061]], dtype=float32), -0.10517274]\n",
      "10 [array([[0.21855806, 0.3787949 , 0.08693694]], dtype=float32), -0.14866464]\n",
      "15 [array([[0.25489876, 0.44144806, 0.10136678]], dtype=float32), -0.1729856]\n",
      "20 [array([[0.2760527 , 0.4778559 , 0.10975655]], dtype=float32), -0.18700777]\n",
      "25 [array([[0.28859422, 0.49941382, 0.11472449]], dtype=float32), -0.1952454]\n",
      "30 [array([[0.29611096, 0.5123221 , 0.11769836]], dtype=float32), -0.20014091]\n",
      "35 [array([[0.30064532, 0.520103  , 0.11949016]], dtype=float32), -0.20307128]\n",
      "40 [array([[0.30339125, 0.5248119 , 0.12057399]], dtype=float32), -0.20483339]\n",
      "45 [array([[0.30505788, 0.52766854, 0.12123112]], dtype=float32), -0.20589614]\n",
      "50 [array([[0.30590644, 0.52912223, 0.12156536]], dtype=float32), -0.20643441]\n"
     ]
    }
   ],
   "source": [
    "N=20000\n",
    "def sigmoid(x):\n",
    "    return 1/(1+np.exp(-x))\n",
    "x_data=np.random.randn(N,3)\n",
    "w_real=[0.3,0.5,0.1]\n",
    "b_real=-0.2\n",
    "\n",
    "y_data=sigmoid(np.matmul(w_real,x_data.T)+b_real)\n",
    "y_data=np.random.binomial(1,y_data)\n",
    "\n",
    "NUM_STEPS=50\n",
    "g=tf.Graph()\n",
    "wb_=[]\n",
    "with g.as_default():\n",
    "    x=tf.placeholder(tf.float32,shape=[None,3])\n",
    "    y_true=tf.placeholder(tf.float32,shape=None)\n",
    "    with tf.name_scope('inference') as scope:\n",
    "        w=tf.Variable([[0,0,0]],dtype=tf.float32,name='weights')\n",
    "        b=tf.Variable(0,dtype=tf.float32,name='bias')\n",
    "        y_pred=tf.matmul(w,tf.transpose(x))+b\n",
    "    \n",
    "    with tf.name_scope('loss') as scope:\n",
    "        loss=tf.nn.sigmoid_cross_entropy_with_logits(labels=y_true,logits=y_pred)\n",
    "        loss=tf.reduce_mean(loss)\n",
    "        \n",
    "    with tf.name_scope('train') as scope: \n",
    "        learning_rate=0.5\n",
    "        optimizer=tf.train.GradientDescentOptimizer(learning_rate)\n",
    "        \n",
    "        train=optimizer.minimize(loss)\n",
    "    init=tf.global_variables_initializer()\n",
    "    with tf.Session() as sess:\n",
    "        sess.run(init)\n",
    "        for step in range(NUM_STEPS):\n",
    "            sess.run(train,{x:x_data,y_true:y_data})\n",
    "            if(step%5)==0:\n",
    "                print(step,sess.run([w,b]))\n",
    "                wb_.append(sess.run([w,b]))\n",
    "        print(50,sess.run([w,b]))"
   ]
  },
  {
   "cell_type": "code",
   "execution_count": null,
   "metadata": {},
   "outputs": [],
   "source": []
  }
 ],
 "metadata": {
  "kernelspec": {
   "display_name": "Python 3",
   "language": "python",
   "name": "python3"
  },
  "language_info": {
   "codemirror_mode": {
    "name": "ipython",
    "version": 3
   },
   "file_extension": ".py",
   "mimetype": "text/x-python",
   "name": "python",
   "nbconvert_exporter": "python",
   "pygments_lexer": "ipython3",
   "version": "3.6.7"
  }
 },
 "nbformat": 4,
 "nbformat_minor": 2
}
